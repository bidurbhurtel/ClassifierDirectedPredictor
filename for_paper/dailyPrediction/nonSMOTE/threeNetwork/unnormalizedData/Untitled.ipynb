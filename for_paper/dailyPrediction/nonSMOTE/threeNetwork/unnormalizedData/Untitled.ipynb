{
 "cells": [
  {
   "cell_type": "code",
   "execution_count": 1,
   "id": "5685ab7a",
   "metadata": {},
   "outputs": [],
   "source": [
    "dic = {'M': 1000, 'CM': 900, 'D': 500, 'CD': 400,\n",
    "        'C': 100, 'XC': 90, 'L': 50, 'XL': 40, \n",
    "        'X': 10, 'IX': 9, 'V': 5, 'IV': 4, 'I': 1}"
   ]
  },
  {
   "cell_type": "code",
   "execution_count": 13,
   "id": "542077e5",
   "metadata": {},
   "outputs": [],
   "source": [
    "res = ''\n",
    "for m in dic:\n",
    "    res += m"
   ]
  },
  {
   "cell_type": "code",
   "execution_count": 14,
   "id": "2ce78b6f",
   "metadata": {},
   "outputs": [
    {
     "data": {
      "text/plain": [
       "'MCMDCDCXCLXLXIXVIVI'"
      ]
     },
     "execution_count": 14,
     "metadata": {},
     "output_type": "execute_result"
    }
   ],
   "source": [
    "res"
   ]
  },
  {
   "cell_type": "code",
   "execution_count": 12,
   "id": "e02eb349",
   "metadata": {},
   "outputs": [
    {
     "data": {
      "text/plain": [
       "str"
      ]
     },
     "execution_count": 12,
     "metadata": {},
     "output_type": "execute_result"
    }
   ],
   "source": [
    "type('M')"
   ]
  },
  {
   "cell_type": "code",
   "execution_count": 19,
   "id": "4d61f131",
   "metadata": {},
   "outputs": [],
   "source": [
    "nums = [2,-5,-2,-4,3]"
   ]
  },
  {
   "cell_type": "code",
   "execution_count": 25,
   "id": "8dc429d5",
   "metadata": {},
   "outputs": [
    {
     "name": "stdout",
     "output_type": "stream",
     "text": [
      "2 2\n",
      "3\n",
      "-10 -10\n",
      "3\n",
      "20 20\n",
      "20\n",
      "-80 -80\n",
      "20\n",
      "-240 -240\n",
      "20\n"
     ]
    }
   ],
   "source": [
    "res = max(nums)\n",
    "currMax, currMin = 1, 1\n",
    "l = len(nums)\n",
    "for num in nums:\n",
    "    if num == 0:\n",
    "        currMin = 1\n",
    "        currMax = 1\n",
    "        continue\n",
    "    elif num>0:\n",
    "        currMax *= num\n",
    "        currMin *= num\n",
    "        res = max(res, currMax)\n",
    "    else:\n",
    "        tmp = currMax\n",
    "        currMax = currMin*num\n",
    "        #print(tmp,currMax)\n",
    "        currMin = tmp*num\n",
    "        res = max(res, currMax)\n",
    "    print(currMax, currMin)\n",
    "    print(res)"
   ]
  },
  {
   "cell_type": "code",
   "execution_count": 17,
   "id": "6f912189",
   "metadata": {},
   "outputs": [
    {
     "data": {
      "text/plain": [
       "20"
      ]
     },
     "execution_count": 17,
     "metadata": {},
     "output_type": "execute_result"
    }
   ],
   "source": [
    "res"
   ]
  },
  {
   "cell_type": "code",
   "execution_count": 28,
   "id": "8ad0ab67",
   "metadata": {},
   "outputs": [
    {
     "name": "stdout",
     "output_type": "stream",
     "text": [
      "2 2\n",
      "3\n",
      "-5 -10\n",
      "3\n",
      "20 -2\n",
      "20\n",
      "8 -80\n",
      "20\n",
      "24 -240\n",
      "24\n"
     ]
    }
   ],
   "source": [
    "res = max(nums)\n",
    "currMax, currMin = 1, 1\n",
    "l = len(nums)\n",
    "for num in nums:\n",
    "    if num == 0:\n",
    "        currMin = 1\n",
    "        currMax = 1\n",
    "        continue\n",
    "    tmp = currMax\n",
    "    currMax = max(num*currMax, num*currMin,num)\n",
    "    currMin = min(num*tmp, num*currMin, num)\n",
    "    res = max(currMax, res)\n",
    "    print(currMax, currMin)\n",
    "    print(res)"
   ]
  },
  {
   "cell_type": "code",
   "execution_count": 36,
   "id": "205c4ad4",
   "metadata": {},
   "outputs": [
    {
     "ename": "TypeError",
     "evalue": "unhashable type: 'set'",
     "output_type": "error",
     "traceback": [
      "\u001b[0;31m---------------------------------------------------------------------------\u001b[0m",
      "\u001b[0;31mTypeError\u001b[0m                                 Traceback (most recent call last)",
      "\u001b[0;32m<ipython-input-36-ad54619d8f37>\u001b[0m in \u001b[0;36m<module>\u001b[0;34m\u001b[0m\n\u001b[1;32m      1\u001b[0m \u001b[0mres\u001b[0m \u001b[0;34m=\u001b[0m \u001b[0mset\u001b[0m\u001b[0;34m(\u001b[0m\u001b[0;34m)\u001b[0m\u001b[0;34m\u001b[0m\u001b[0;34m\u001b[0m\u001b[0m\n\u001b[1;32m      2\u001b[0m \u001b[0;34m\u001b[0m\u001b[0m\n\u001b[0;32m----> 3\u001b[0;31m \u001b[0mres\u001b[0m\u001b[0;34m.\u001b[0m\u001b[0madd\u001b[0m\u001b[0;34m(\u001b[0m\u001b[0;34m{\u001b[0m\u001b[0;36m1\u001b[0m\u001b[0;34m,\u001b[0m\u001b[0;36m2\u001b[0m\u001b[0;34m,\u001b[0m\u001b[0;36m3\u001b[0m\u001b[0;34m}\u001b[0m\u001b[0;34m)\u001b[0m\u001b[0;34m\u001b[0m\u001b[0;34m\u001b[0m\u001b[0m\n\u001b[0m",
      "\u001b[0;31mTypeError\u001b[0m: unhashable type: 'set'"
     ]
    }
   ],
   "source": [
    "res = set()\n",
    "\n",
    "res.add({1,2,3})"
   ]
  },
  {
   "cell_type": "code",
   "execution_count": 38,
   "id": "7db25478",
   "metadata": {},
   "outputs": [],
   "source": [
    "s = {'s':1}"
   ]
  },
  {
   "cell_type": "code",
   "execution_count": 44,
   "id": "b2be4f55",
   "metadata": {},
   "outputs": [],
   "source": [
    "a = s.keys()"
   ]
  },
  {
   "cell_type": "code",
   "execution_count": 45,
   "id": "f19817e1",
   "metadata": {},
   "outputs": [
    {
     "data": {
      "text/plain": [
       "dict_keys(['s'])"
      ]
     },
     "execution_count": 45,
     "metadata": {},
     "output_type": "execute_result"
    }
   ],
   "source": [
    "a"
   ]
  },
  {
   "cell_type": "code",
   "execution_count": 47,
   "id": "fa859cf6",
   "metadata": {},
   "outputs": [
    {
     "data": {
      "text/plain": [
       "False"
      ]
     },
     "execution_count": 47,
     "metadata": {},
     "output_type": "execute_result"
    }
   ],
   "source": [
    "'t' in s.keys()"
   ]
  },
  {
   "cell_type": "code",
   "execution_count": null,
   "id": "91e5410d",
   "metadata": {},
   "outputs": [],
   "source": []
  }
 ],
 "metadata": {
  "kernelspec": {
   "display_name": "Python 3",
   "language": "python",
   "name": "python3"
  },
  "language_info": {
   "codemirror_mode": {
    "name": "ipython",
    "version": 3
   },
   "file_extension": ".py",
   "mimetype": "text/x-python",
   "name": "python",
   "nbconvert_exporter": "python",
   "pygments_lexer": "ipython3",
   "version": "3.7.10"
  }
 },
 "nbformat": 4,
 "nbformat_minor": 5
}
