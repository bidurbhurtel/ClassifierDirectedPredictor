{
 "cells": [
  {
   "cell_type": "code",
   "execution_count": null,
   "metadata": {
    "id": "aZXkzoso2sU3"
   },
   "outputs": [],
   "source": [
    "# ******NOTE: use different instance of Normalization for extreme values"
   ]
  },
  {
   "cell_type": "code",
   "execution_count": 1,
   "metadata": {
    "id": "diLUxHRu2sU4"
   },
   "outputs": [
    {
     "name": "stderr",
     "output_type": "stream",
     "text": [
      "Using TensorFlow backend.\n"
     ]
    }
   ],
   "source": [
    "#import modules\n",
    "import numpy as np\n",
    "import pandas as pd\n",
    "import time\n",
    "from keras import backend as K \n",
    "from keras.engine.training import Model\n",
    "from tensorflow.keras.utils import to_categorical, plot_model\n",
    "from keras.models import Sequential, load_model\n",
    "from sklearn.preprocessing import MinMaxScaler\n",
    "from keras.layers.convolutional import Conv1D, Conv2D\n",
    "from keras.layers.convolutional import MaxPooling2D\n",
    "from keras.layers import Dropout, Activation, Flatten\n",
    "from keras.layers import LSTM, Dense, Input\n",
    "from keras.optimizers import SGD\n",
    "import matplotlib.pyplot as plt\n",
    "from sklearn.metrics import confusion_matrix\n",
    "from sklearn.model_selection import train_test_split\n",
    "from tqdm import tqdm_notebook\n",
    "from sklearn.metrics import mean_squared_error\n",
    "from imblearn.over_sampling import SMOTE"
   ]
  },
  {
   "cell_type": "code",
   "execution_count": 2,
   "metadata": {
    "colab": {
     "base_uri": "https://localhost:8080/",
     "height": 204
    },
    "id": "SAszYvpf2sU5",
    "outputId": "dfcff603-d8cd-4945-91a8-ffd81ba7fb67"
   },
   "outputs": [
    {
     "data": {
      "text/html": [
       "<div>\n",
       "<style scoped>\n",
       "    .dataframe tbody tr th:only-of-type {\n",
       "        vertical-align: middle;\n",
       "    }\n",
       "\n",
       "    .dataframe tbody tr th {\n",
       "        vertical-align: top;\n",
       "    }\n",
       "\n",
       "    .dataframe thead th {\n",
       "        text-align: right;\n",
       "    }\n",
       "</style>\n",
       "<table border=\"1\" class=\"dataframe\">\n",
       "  <thead>\n",
       "    <tr style=\"text-align: right;\">\n",
       "      <th></th>\n",
       "      <th>Dates</th>\n",
       "      <th>Year</th>\n",
       "      <th>Month</th>\n",
       "      <th>Day</th>\n",
       "      <th>Hours</th>\n",
       "      <th>Precipitation</th>\n",
       "      <th>Temperature</th>\n",
       "      <th>Outflow</th>\n",
       "    </tr>\n",
       "  </thead>\n",
       "  <tbody>\n",
       "    <tr>\n",
       "      <th>0</th>\n",
       "      <td>10/1/1980</td>\n",
       "      <td>1980</td>\n",
       "      <td>10</td>\n",
       "      <td>1</td>\n",
       "      <td>0:00:00</td>\n",
       "      <td>0.0</td>\n",
       "      <td>102.992</td>\n",
       "      <td>5.0</td>\n",
       "    </tr>\n",
       "    <tr>\n",
       "      <th>1</th>\n",
       "      <td>10/1/1980</td>\n",
       "      <td>1980</td>\n",
       "      <td>10</td>\n",
       "      <td>1</td>\n",
       "      <td>1:00:00</td>\n",
       "      <td>0.0</td>\n",
       "      <td>97.790</td>\n",
       "      <td>5.0</td>\n",
       "    </tr>\n",
       "    <tr>\n",
       "      <th>2</th>\n",
       "      <td>10/1/1980</td>\n",
       "      <td>1980</td>\n",
       "      <td>10</td>\n",
       "      <td>1</td>\n",
       "      <td>2:00:00</td>\n",
       "      <td>0.0</td>\n",
       "      <td>92.588</td>\n",
       "      <td>5.0</td>\n",
       "    </tr>\n",
       "    <tr>\n",
       "      <th>3</th>\n",
       "      <td>10/1/1980</td>\n",
       "      <td>1980</td>\n",
       "      <td>10</td>\n",
       "      <td>1</td>\n",
       "      <td>3:00:00</td>\n",
       "      <td>0.0</td>\n",
       "      <td>87.404</td>\n",
       "      <td>5.0</td>\n",
       "    </tr>\n",
       "    <tr>\n",
       "      <th>4</th>\n",
       "      <td>10/1/1980</td>\n",
       "      <td>1980</td>\n",
       "      <td>10</td>\n",
       "      <td>1</td>\n",
       "      <td>4:00:00</td>\n",
       "      <td>0.0</td>\n",
       "      <td>85.172</td>\n",
       "      <td>5.0</td>\n",
       "    </tr>\n",
       "  </tbody>\n",
       "</table>\n",
       "</div>"
      ],
      "text/plain": [
       "       Dates  Year  Month  Day    Hours  Precipitation  Temperature  Outflow\n",
       "0  10/1/1980  1980     10    1  0:00:00            0.0      102.992      5.0\n",
       "1  10/1/1980  1980     10    1  1:00:00            0.0       97.790      5.0\n",
       "2  10/1/1980  1980     10    1  2:00:00            0.0       92.588      5.0\n",
       "3  10/1/1980  1980     10    1  3:00:00            0.0       87.404      5.0\n",
       "4  10/1/1980  1980     10    1  4:00:00            0.0       85.172      5.0"
      ]
     },
     "execution_count": 2,
     "metadata": {},
     "output_type": "execute_result"
    }
   ],
   "source": [
    "#import data\n",
    "df = pd.read_csv('../Sub0-RAW.csv')\n",
    "df.head()"
   ]
  },
  {
   "cell_type": "code",
   "execution_count": 3,
   "metadata": {
    "id": "3TkSAMR42sU5"
   },
   "outputs": [],
   "source": [
    "#define train and label column\n",
    "train_cols = [\"Precipitation\",\"Temperature\",\"Outflow\"]\n",
    "label_cols = [\"Outflow(t+1)\"]"
   ]
  },
  {
   "cell_type": "code",
   "execution_count": 4,
   "metadata": {
    "id": "0k53gg1D2sU6"
   },
   "outputs": [],
   "source": [
    "#filter the columns that are used for training and testing\n",
    "filtered_df = df.filter(train_cols, axis=1)"
   ]
  },
  {
   "cell_type": "code",
   "execution_count": 5,
   "metadata": {
    "id": "g638ZOZN3DqB"
   },
   "outputs": [],
   "source": [
    "#To convert from hourly data to daily data\n",
    "oflow = filtered_df['Outflow'].tolist()\n",
    "tem = filtered_df['Temperature'].tolist()\n",
    "precp = filtered_df['Precipitation'].tolist()\n",
    "\n",
    "#Summing up the outflow data\n",
    "lengthOfData = len(oflow)\n",
    "\n",
    "#summing 24 hours outflow\n",
    "totalOutflow = []\n",
    "for i in range(0, lengthOfData, 24):\n",
    "  totalOutflow.append(sum(oflow[i:i+24]))\n",
    "\n",
    "#averaging 24 hours temperature\n",
    "averageTemperature = []\n",
    "for i in range(0, lengthOfData, 24):\n",
    "  averageTemperature.append((sum(tem[i:i+24]))/24)\n",
    "\n",
    "#summing 24 hours precipitation\n",
    "totalPrecipitation = []\n",
    "for i in range(0, lengthOfData, 24):\n",
    "  totalPrecipitation.append(sum(precp[i:i+24]))"
   ]
  },
  {
   "cell_type": "code",
   "execution_count": 6,
   "metadata": {
    "id": "RfkDLM-k3G8c"
   },
   "outputs": [],
   "source": [
    "#new dataframe for daily data\n",
    "new_df = pd.DataFrame({'Precipitation': totalPrecipitation, 'Temperature': averageTemperature, \n",
    "                       'Outflow': totalOutflow}, columns=['Precipitation', 'Temperature', 'Outflow'])"
   ]
  },
  {
   "cell_type": "code",
   "execution_count": 7,
   "metadata": {
    "colab": {
     "base_uri": "https://localhost:8080/",
     "height": 592
    },
    "id": "8Cvrrt_z3K6t",
    "outputId": "8f5968ed-c348-45ac-aa8c-7b431f8110ad"
   },
   "outputs": [
    {
     "data": {
      "image/png": "[encoded data removed]",
      "text/plain": [
       "<Figure size 1080x720 with 1 Axes>"
      ]
     },
     "metadata": {
      "needs_background": "light"
     },
     "output_type": "display_data"
    }
   ],
   "source": [
    "plt.figure(figsize=(15, 10))\n",
    "plt.plot(new_df['Outflow'], 'ro')\n",
    "plt.show()"
   ]
  },
  {
   "cell_type": "code",
   "execution_count": 8,
   "metadata": {
    "id": "eNhjM4fS2sU6"
   },
   "outputs": [],
   "source": [
    "new_df['ExtremeOrNot'] = np.where(new_df['Outflow'] > 5000, 1, 0)"
   ]
  },
  {
   "cell_type": "code",
   "execution_count": 9,
   "metadata": {
    "id": "OGEZZ3812sU6"
   },
   "outputs": [],
   "source": [
    "#dataframe for network 1 without extreme values\n",
    "df_net1 = new_df[new_df['Outflow'] <= 5000]"
   ]
  },
  {
   "cell_type": "code",
   "execution_count": 10,
   "metadata": {
    "colab": {
     "base_uri": "https://localhost:8080/"
    },
    "id": "oHrSVb3a2sU6",
    "outputId": "a49d17e8-99fe-41ef-993b-c94de67f547e"
   },
   "outputs": [
    {
     "data": {
      "text/plain": [
       "((7611, 4), (185544, 8))"
      ]
     },
     "execution_count": 10,
     "metadata": {},
     "output_type": "execute_result"
    }
   ],
   "source": [
    "#outflow shape without values greater 5000, and original hourly  data shape\n",
    "df_net1.shape, df.shape"
   ]
  },
  {
   "cell_type": "code",
   "execution_count": 11,
   "metadata": {},
   "outputs": [
    {
     "data": {
      "text/plain": [
       "(7731, 4)"
      ]
     },
     "execution_count": 11,
     "metadata": {},
     "output_type": "execute_result"
    }
   ],
   "source": [
    "#total days outflow\n",
    "new_df.shape"
   ]
  },
  {
   "cell_type": "code",
   "execution_count": 12,
   "metadata": {
    "id": "8afr3jDM2sU7"
   },
   "outputs": [],
   "source": [
    "#label of network for discriminator network\n",
    "labels_discriminator = [\"ExtremeOrNot\"]"
   ]
  },
  {
   "cell_type": "code",
   "execution_count": 13,
   "metadata": {
    "id": "LuNsposx2sU7"
   },
   "outputs": [],
   "source": [
    "# #Min Max scalar normalizing\n",
    "# xtrain_min_max_scaler = MinMaxScaler(feature_range = (0, 1))\n",
    "# ytrain_min_max_scaler = MinMaxScaler(feature_range = (0, 1))\n",
    "# xtest_min_max_scaler = MinMaxScaler(feature_range = (0, 1))\n",
    "# ytest_min_max_scaler = MinMaxScaler(feature_range = (0, 1))\n",
    "# #Min Max scalar normalizing for extreme values\n",
    "# xtrain_min_max_scaler_ext = MinMaxScaler(feature_range = (0, 1))\n",
    "# ytrain_min_max_scaler_ext = MinMaxScaler(feature_range = (0, 1))\n",
    "# xtest_min_max_scaler_ext = MinMaxScaler(feature_range = (0, 1))\n",
    "# ytest_min_max_scaler_ext = MinMaxScaler(feature_range = (0, 1))"
   ]
  },
  {
   "cell_type": "code",
   "execution_count": 14,
   "metadata": {
    "colab": {
     "base_uri": "https://localhost:8080/"
    },
    "id": "KdS-iJxF2sU7",
    "outputId": "fe42bd8d-3a82-4feb-9eff-8f40f7a30f14"
   },
   "outputs": [
    {
     "name": "stderr",
     "output_type": "stream",
     "text": [
      "/Users/bidurbhurtel/anaconda3/envs/tf/lib/python3.7/site-packages/ipykernel_launcher.py:4: SettingWithCopyWarning: \n",
      "A value is trying to be set on a copy of a slice from a DataFrame.\n",
      "Try using .loc[row_indexer,col_indexer] = value instead\n",
      "\n",
      "See the caveats in the documentation: https://pandas.pydata.org/pandas-docs/stable/user_guide/indexing.html#returning-a-view-versus-a-copy\n",
      "  after removing the cwd from sys.path.\n",
      "/Users/bidurbhurtel/anaconda3/envs/tf/lib/python3.7/site-packages/ipykernel_launcher.py:13: SettingWithCopyWarning: \n",
      "A value is trying to be set on a copy of a slice from a DataFrame\n",
      "\n",
      "See the caveats in the documentation: https://pandas.pydata.org/pandas-docs/stable/user_guide/indexing.html#returning-a-view-versus-a-copy\n",
      "  del sys.path[0]\n"
     ]
    }
   ],
   "source": [
    "#function to shift the time_series data for getting labels\n",
    "def lag_seq(df, n_seq):\n",
    "    for i in range(n_seq):\n",
    "        df['Outflow(t+%d)' %(i+1)] = new_df['Outflow'].shift(-(i+1))\n",
    "    return df\n",
    "\n",
    "#calling function to create lag dataframe for network 3\n",
    "lag_df = lag_seq(new_df, 1)\n",
    "lag_df.dropna(inplace=True)\n",
    "\n",
    "#calling function to create lag dataframe for network 1\n",
    "lag_df_net1 = lag_seq(df_net1, 1)\n",
    "lag_df_net1.dropna(inplace=True)\n",
    "\n",
    "#Splitting training and test data for network 3\n",
    "df_train, df_test = train_test_split(lag_df, train_size=0.8, test_size=0.2, shuffle=False)\n",
    "#splitting training and test data for network 1\n",
    "df_train_net1, df_test_net1 = train_test_split(lag_df_net1, train_size=0.8, test_size=0.2, shuffle=False)\n",
    "#train for network3\n",
    "x_train3 = df_train.loc[:,train_cols].values\n",
    "y_train3 = df_train.loc[:,labels_discriminator].values  #for discriminator\n",
    "# train data for network1\n",
    "x_train1 = df_train_net1.loc[:,train_cols].values\n",
    "y_train1 = df_train_net1.loc[:,label_cols].values\n",
    "#test data for network3\n",
    "x_test3 = df_test.loc[:,train_cols].values\n",
    "y_test3 = df_test.loc[:,labels_discriminator].values    #for discriminator\n",
    "#test data for network 1\n",
    "x_test1 = df_test_net1.loc[:,train_cols].values\n",
    "y_test1 = df_test_net1.loc[:,label_cols].values "
   ]
  },
  {
   "cell_type": "code",
   "execution_count": 15,
   "metadata": {
    "id": "rQZAeyMe2sU8"
   },
   "outputs": [],
   "source": [
    "# building timeseries data with given timesteps\n",
    "def timeseries(X, Y, Y_actual, time_steps, out_steps):\n",
    "    input_size_0 = X.shape[0] - time_steps\n",
    "    input_size_1 = X.shape[1]\n",
    "    X_values = np.zeros((input_size_0, time_steps, input_size_1))\n",
    "    Y_values = np.zeros((input_size_0,))\n",
    "    Y_values_actual = np.zeros((input_size_0,))\n",
    "    \n",
    "    for i in tqdm_notebook(range(input_size_0)):\n",
    "        X_values[i] = X[i:time_steps+i]\n",
    "        Y_values[i] = Y[time_steps+i-1, 0]\n",
    "        Y_values_actual[i] = Y_actual[time_steps+i-1, 0]\n",
    "        \n",
    "    print(\"length of time-series i/o\",X_values.shape,Y_values.shape)\n",
    "    return X_values, Y_values, Y_values_actual"
   ]
  },
  {
   "cell_type": "code",
   "execution_count": 25,
   "metadata": {},
   "outputs": [],
   "source": [
    "# building timeseries data with given timesteps\n",
    "def timeseries1(X, Y, Y_actual, time_steps, out_steps):\n",
    "    input_size_0 = X.shape[0] - time_steps\n",
    "    input_size_1 = X.shape[1]\n",
    "    X_values = np.zeros((input_size_0, time_steps, input_size_1))\n",
    "    Y_values = np.zeros((input_size_0,))\n",
    "    Y_values_actual = np.zeros((input_size_0,))\n",
    "    \n",
    "    for i in tqdm_notebook(range(input_size_0)):\n",
    "        X_values[i] = X[i:time_steps+i]\n",
    "        Y_values[i] = Y[time_steps+i-1]\n",
    "        Y_values_actual[i] = Y_actual[time_steps+i-1]\n",
    "        \n",
    "    print(\"length of time-series i/o\",X_values.shape,Y_values.shape)\n",
    "    return X_values, Y_values, Y_values_actual"
   ]
  },
  {
   "cell_type": "code",
   "execution_count": 16,
   "metadata": {
    "id": "GkgkEVss2sU8"
   },
   "outputs": [],
   "source": [
    "# checking mse for train set that are greater than threshold\n",
    "x_train = df_train.loc[:,train_cols].values\n",
    "y_train = df_train.loc[:,label_cols].values\n",
    "x_test = df_test.loc[:,train_cols].values\n",
    "y_test = df_test.loc[:,label_cols].values\n",
    "\n",
    "threshold = 5000\n",
    "timesteps = 18\n",
    "train_values_above_thres = []\n",
    "train_labels_above_theres = []\n",
    "\n",
    "for i in range(timesteps, x_train.shape[0]):\n",
    "    if (y_train[i] > threshold):\n",
    "        train_values_above_thres.append(x_train[i-timesteps:i])\n",
    "        train_labels_above_theres.append(y_train[i]) \n",
    "        \n",
    "X_Train_abv_thres = np.array(train_values_above_thres)\n",
    "Y_Train_abv_thres = np.array(train_labels_above_theres)\n",
    "\n",
    "# tsamples, ta, tb = X_train_abv_thres.shape\n",
    "# x_train_for_normalization = X_train_abv_thres.reshape((tsamples,ta*tb)) # since normalization requires 2d array\n",
    "# x_train_for_normalization.shape\n",
    "\n",
    "# X_Train_abv_thres = xtrain_min_max_scaler_ext.fit_transform(x_train_for_normalization)\n",
    "# Y_Train_abv_thres = ytrain_min_max_scaler_ext.fit_transform(Y_train_abv_thres)\n",
    "\n",
    "# X_Train_abv_thres = X_Train_abv_thres.reshape((tsamples, ta, tb))"
   ]
  },
  {
   "cell_type": "code",
   "execution_count": 17,
   "metadata": {
    "id": "L0g2rzwn2sU9"
   },
   "outputs": [],
   "source": [
    "# checking mse for test set that are greater than threshold\n",
    "test_values_above_thres = []\n",
    "test_labels_above_theres = []\n",
    "\n",
    "for i in range(timesteps, x_test.shape[0]):\n",
    "    if (y_test[i] > threshold):\n",
    "        test_values_above_thres.append(x_test[i-timesteps:i])\n",
    "        test_labels_above_theres.append(y_test[i]) \n",
    "        \n",
    "X_Test_abv_thres = np.array(test_values_above_thres)\n",
    "Y_Test_abv_thres = np.array(test_labels_above_theres)\n",
    "\n",
    "# tsamples, ta, tb = X_test_abv_thres.shape\n",
    "# x_test_for_normalization = X_test_abv_thres.reshape((tsamples,ta*tb)) # since normalization requires 2d array\n",
    "# x_test_for_normalization.shape\n",
    "\n",
    "# X_Test_abv_thres = xtest_min_max_scaler_ext.fit_transform(x_test_for_normalization)\n",
    "# Y_Test_abv_thres = ytest_min_max_scaler_ext.fit_transform(Y_test_abv_thres)\n",
    "\n",
    "# X_Test_abv_thres = X_Test_abv_thres.reshape((tsamples, ta, tb))"
   ]
  },
  {
   "cell_type": "code",
   "execution_count": 18,
   "metadata": {
    "id": "A4OaUr0r2sU9"
   },
   "outputs": [],
   "source": [
    "#data for Network1\n",
    "def data_processing(x_train, y_train, x_test, y_test): \n",
    "   \n",
    "#     #Normalizing training data\n",
    "#     x_train_nor = xtrain_min_max_scaler.fit_transform(x_train)\n",
    "#     y_train_nor = ytrain_min_max_scaler.fit_transform(y_train)\n",
    "\n",
    "#     # Normalizing test data\n",
    "#     x_test_nor = xtest_min_max_scaler.fit_transform(x_test)\n",
    "#     y_test_nor = ytest_min_max_scaler.fit_transform(y_test)\n",
    "    \n",
    "    # Saving actual train and test y_label\n",
    "    y_train_actual = y_train\n",
    "    y_test_actual = y_test\n",
    "    \n",
    "    #Building timeseries\n",
    "    X_Train, Y_Train, Y_train_actual = timeseries(x_train, y_train, y_train_actual, time_steps=18, out_steps=1)\n",
    "    X_Test, Y_Test, Y_test_actual = timeseries(x_test, y_test, y_test_actual, time_steps=18, out_steps=1)\n",
    "    \n",
    "    return X_Train, Y_Train, Y_train_actual, X_Test, Y_Test, Y_test_actual"
   ]
  },
  {
   "cell_type": "code",
   "execution_count": 26,
   "metadata": {
    "id": "0s7m-pod2sU-"
   },
   "outputs": [],
   "source": [
    "# data for Network3\n",
    "def data_processing1(x_train, y_train, x_test, y_test): \n",
    "   \n",
    "#     #Normalizing training data\n",
    "#     x_train_nor = xtrain_min_max_scaler.fit_transform(x_train)\n",
    "\n",
    "#     # Normalizing test data\n",
    "#     x_test_nor = xtest_min_max_scaler.fit_transform(x_test)\n",
    "    #SMOTE algorithm\n",
    "    sm = SMOTE(random_state = 2)\n",
    "    x_train_res, y_train_res = sm.fit_sample(x_train, y_train.ravel())\n",
    "    \n",
    "    # Saving actual train and test y_label\n",
    "    y_train_actual = y_train_res\n",
    "    y_test_actual = y_test\n",
    "    \n",
    "    #Building timeseries\n",
    "    X_Train, Y_Train, Y_train_actual = timeseries1(x_train_res, y_train_res, y_train_actual, time_steps=18, out_steps=1)\n",
    "    X_Test, Y_Test, Y_test_actual = timeseries(x_test, y_test, y_test_actual, time_steps=18, out_steps=1)\n",
    "    \n",
    "    return X_Train, Y_Train, Y_train_actual, X_Test, Y_Test, Y_test_actual"
   ]
  },
  {
   "cell_type": "code",
   "execution_count": 27,
   "metadata": {
    "colab": {
     "base_uri": "https://localhost:8080/",
     "height": 403,
     "referenced_widgets": [
      "f6d8186a4ee34c4bbe79f62b2b38a352",
      "4365092ba634490e91989a5e1d9979e1",
      "89cce5fa129b457bbc52e3a5d96704bc",
      "e4e34cf55c9b40d38afc2d08e7c461de",
      "1a63268ad78340439c26197038e59664",
      "f5d071467b334101b69d329b40ed337f",
      "c5bd1aa4069445f6b3b88ea5f5e7e1a3",
      "f9b07e2b976f42208e1d204a430c356d",
      "d5420bd8edc240f8a68a309221427f4b",
      "d6bdc2e71c024b7c96de13c42271d4b7",
      "983fa2bace72450bb6233cf44e99d5e5",
      "0a8f46fcca40434e89510e1813e27036",
      "e89c816b147849618fe66c85d2db321f",
      "0e3ccdbf1f864269a907d233aed9d60e",
      "4159e076b3f9412aa6ac26ee0385c8dd",
      "ae9a3c06dae64195abe0cfe56ffe8969",
      "0f6e3a67cf2e4b3e8430f0f26b55a3a6",
      "586e68b6f5644b11a177f82c9f19d511",
      "0f48f595b742489283903d0c50290ea9",
      "ac71aff4a26940e8bb33bf1564494d89",
      "7077cc540c0f46e8be0525d5faa1a45b",
      "1dcd5bdc7a3d46a493d86a819027b1b8",
      "3511558834f047b2a8ad92513c6b5a37",
      "143c2deec2e546c1af16f750bef5502e",
      "b06b4781763b401f80634f5be7dbef57",
      "0be99258bca34929a4324d48b3f219dd",
      "e00e527b2ddf42e9a2c3b7a7e9f2177c",
      "0803cc91e464451cbf3f9b5e665078a5",
      "05a5766edc63499197700c1966dded76",
      "957177d02044408b9d152aca62275353",
      "091e6426efdd45a8a5189b0d2fe6a442",
      "271a8a8294294459bafc20a9dd5ec9a2"
     ]
    },
    "id": "5IKhF0fq2sU-",
    "outputId": "5f1d6a85-9678-4763-9a5a-70d96905b196"
   },
   "outputs": [
    {
     "name": "stderr",
     "output_type": "stream",
     "text": [
      "/Users/bidurbhurtel/anaconda3/envs/tf/lib/python3.7/site-packages/ipykernel_launcher.py:9: TqdmDeprecationWarning: This function will be removed in tqdm==5.0.0\n",
      "Please use `tqdm.notebook.tqdm` instead of `tqdm.tqdm_notebook`\n",
      "  if __name__ == '__main__':\n"
     ]
    },
    {
     "data": {
      "application/vnd.jupyter.widget-view+json": {
       "model_id": "088852c164f0409387ab439b2d35ddf5",
       "version_major": 2,
       "version_minor": 0
      },
      "text/plain": [
       "HBox(children=(HTML(value=''), FloatProgress(value=0.0, max=6069.0), HTML(value='')))"
      ]
     },
     "metadata": {},
     "output_type": "display_data"
    },
    {
     "name": "stdout",
     "output_type": "stream",
     "text": [
      "\n",
      "length of time-series i/o (6069, 18, 3) (6069,)\n"
     ]
    },
    {
     "data": {
      "application/vnd.jupyter.widget-view+json": {
       "model_id": "b01cf372b1034422b8fcb14708ecd22e",
       "version_major": 2,
       "version_minor": 0
      },
      "text/plain": [
       "HBox(children=(HTML(value=''), FloatProgress(value=0.0, max=1504.0), HTML(value='')))"
      ]
     },
     "metadata": {},
     "output_type": "display_data"
    },
    {
     "name": "stdout",
     "output_type": "stream",
     "text": [
      "\n",
      "length of time-series i/o (1504, 18, 3) (1504,)\n"
     ]
    },
    {
     "name": "stderr",
     "output_type": "stream",
     "text": [
      "/Users/bidurbhurtel/anaconda3/envs/tf/lib/python3.7/site-packages/ipykernel_launcher.py:9: TqdmDeprecationWarning: This function will be removed in tqdm==5.0.0\n",
      "Please use `tqdm.notebook.tqdm` instead of `tqdm.tqdm_notebook`\n",
      "  if __name__ == '__main__':\n"
     ]
    },
    {
     "data": {
      "application/vnd.jupyter.widget-view+json": {
       "model_id": "3c1b208eb1224b19a495095ea80aef32",
       "version_major": 2,
       "version_minor": 0
      },
      "text/plain": [
       "HBox(children=(HTML(value=''), FloatProgress(value=0.0, max=12170.0), HTML(value='')))"
      ]
     },
     "metadata": {},
     "output_type": "display_data"
    },
    {
     "name": "stdout",
     "output_type": "stream",
     "text": [
      "\n",
      "length of time-series i/o (12170, 18, 3) (12170,)\n"
     ]
    },
    {
     "data": {
      "application/vnd.jupyter.widget-view+json": {
       "model_id": "f0a06bd32571457caf568ccfa362a68d",
       "version_major": 2,
       "version_minor": 0
      },
      "text/plain": [
       "HBox(children=(HTML(value=''), FloatProgress(value=0.0, max=1528.0), HTML(value='')))"
      ]
     },
     "metadata": {},
     "output_type": "display_data"
    },
    {
     "name": "stdout",
     "output_type": "stream",
     "text": [
      "\n",
      "length of time-series i/o (1528, 18, 3) (1528,)\n"
     ]
    }
   ],
   "source": [
    "#calling function to create lag dataframe\n",
    "X_Train, Y_Train, Y_train_actual, X_Test, Y_Test, Y_test_actual = data_processing(x_train1, \n",
    "                                                                                  y_train1, \n",
    "                                                                                  x_test1, \n",
    "                                                                                  y_test1)\n",
    "#calling function to create lag dataframe for distinguisher network\n",
    "X_Train_dis, Y_Train_dis, Y_train_actual_dis, X_Test_dis, Y_Test_dis, Y_test_actual_dis = data_processing1(x_train3, \n",
    "                                                                                                          y_train3, \n",
    "                                                                                                          x_test3, \n",
    "                                                                                                          y_test3)"
   ]
  },
  {
   "cell_type": "code",
   "execution_count": 28,
   "metadata": {
    "colab": {
     "base_uri": "https://localhost:8080/",
     "height": 220,
     "referenced_widgets": [
      "97965ff7dec245c58687ffb3e8f404e2",
      "69608941ce574c09bf32b4665f467c27",
      "0312e823fa0e4c58971215d9e2b19088",
      "5c7d4f9550f9475ba03239844be7dcc6",
      "43991f0a37c24b7c911a3cf6eff9e68c",
      "b4506ee0de6e45358bf30457e4459518",
      "ec7cfb3afd2a4e5393cc419b8fb872ba",
      "ef10ad9d8e344ec9b33811ef873f2bcd",
      "a8639c5afd674416a2413576864b586c",
      "9d1deb15db504857acea8d25c9eb3a2f",
      "49859c00352a47f1a6657a7e842b90df",
      "11a32bddb36848eda4aed4350df0b801",
      "6a30050b2bc349b7b6d8f233fd5f701a",
      "6a2c2557e43047038ec77612cffda68c",
      "e1d03f93124942848614ff6caff273cd",
      "ca0cba9ce6bf411c8353fb47b58cde28"
     ]
    },
    "id": "RBAJXDyh2sU_",
    "outputId": "0342d7fa-f031-4d88-bd7e-2b4fa8327f1a"
   },
   "outputs": [
    {
     "name": "stderr",
     "output_type": "stream",
     "text": [
      "/Users/bidurbhurtel/anaconda3/envs/tf/lib/python3.7/site-packages/ipykernel_launcher.py:9: TqdmDeprecationWarning: This function will be removed in tqdm==5.0.0\n",
      "Please use `tqdm.notebook.tqdm` instead of `tqdm.tqdm_notebook`\n",
      "  if __name__ == '__main__':\n"
     ]
    },
    {
     "data": {
      "application/vnd.jupyter.widget-view+json": {
       "model_id": "895901babfe74262b3eb23c303153861",
       "version_major": 2,
       "version_minor": 0
      },
      "text/plain": [
       "HBox(children=(HTML(value=''), FloatProgress(value=0.0, max=6166.0), HTML(value='')))"
      ]
     },
     "metadata": {},
     "output_type": "display_data"
    },
    {
     "name": "stdout",
     "output_type": "stream",
     "text": [
      "\n",
      "length of time-series i/o (6166, 18, 3) (6166,)\n"
     ]
    },
    {
     "data": {
      "application/vnd.jupyter.widget-view+json": {
       "model_id": "a20d57a019404096af534c9e1ea301ef",
       "version_major": 2,
       "version_minor": 0
      },
      "text/plain": [
       "HBox(children=(HTML(value=''), FloatProgress(value=0.0, max=1528.0), HTML(value='')))"
      ]
     },
     "metadata": {},
     "output_type": "display_data"
    },
    {
     "name": "stdout",
     "output_type": "stream",
     "text": [
      "\n",
      "length of time-series i/o (1528, 18, 3) (1528,)\n"
     ]
    }
   ],
   "source": [
    "## check for all the values in network 1 and create a dataframe to handpick values from network 1 or network 2\n",
    "X_Train1, Y_Train1, Y_train_actual1, X_Test1, Y_Test1, Y_test_actual1 = data_processing(x_train, \n",
    "                                                                                  y_train, \n",
    "                                                                                  x_test, \n",
    "                                                                                  y_test)"
   ]
  },
  {
   "cell_type": "code",
   "execution_count": 29,
   "metadata": {
    "id": "RB0wyn0o2sU_"
   },
   "outputs": [],
   "source": [
    "# for classification network, we should use categorical labels\n",
    "Y_Train_disc = to_categorical(Y_Train_dis)\n",
    "Y_Test_disc = to_categorical(Y_Test_dis)"
   ]
  },
  {
   "cell_type": "code",
   "execution_count": 30,
   "metadata": {
    "id": "rCypInyf2sU_"
   },
   "outputs": [],
   "source": [
    "#Network 1 for normal values\n",
    "def make_model(X_Train):\n",
    "    inp = Input(shape=(X_Train.shape[1], X_Train.shape[2]))\n",
    "    #build modelA\n",
    "    lstm1 = LSTM(units=16, return_sequences=True, \n",
    "                   name = 'lstm1A')(inp)\n",
    "#     do1A = Dropout(0.2, name = 'do1A')(lstm1A)\n",
    "    lstm2 = LSTM(units=32, return_sequences=True,\n",
    "                  name = 'lstm2A')(lstm1)\n",
    "#     do2A = Dropout(0.2, name = 'do2A')(lstm2A)\n",
    "    lstm3 = LSTM(units=64, name = 'lstm3A')(lstm2)\n",
    "#     do3A = Dropout(0.2, name = 'do3A')(lstm3A)\n",
    "    \n",
    "    dense1 = Dense(128, activation='relu')(lstm3)\n",
    "    dense2 = Dense(64, activation='relu')(dense1)\n",
    "    output_layer = Dense(1, activation='linear')(dense2)\n",
    "    \n",
    "    return Model(inputs=inp, outputs=output_layer)\n",
    "\n",
    "#Network 2 for extreme values\n",
    "def make_model1(X_Train):\n",
    "    inp = Input(shape=(X_Train.shape[1], X_Train.shape[2]))\n",
    "    #build modelA\n",
    "    lstm1 = LSTM(units=16, return_sequences=True, \n",
    "                   name = 'lstm1A')(inp)\n",
    "#     do1A = Dropout(0.2, name = 'do1A')(lstm1A)\n",
    "    lstm2 = LSTM(units=32, return_sequences=True,\n",
    "                  name = 'lstm2A')(lstm1)\n",
    "#     do2A = Dropout(0.2, name = 'do2A')(lstm2A)\n",
    "    lstm3 = LSTM(units=64, name = 'lstm3A')(lstm2)\n",
    "#     do3A = Dropout(0.2, name = 'do3A')(lstm3A)\n",
    "    \n",
    "    dense1 = Dense(128, activation='relu')(lstm3)\n",
    "    dense2 = Dense(64, activation='relu')(dense1)\n",
    "    output_layer = Dense(1, activation='linear')(dense2)\n",
    "    \n",
    "    return Model(inputs=inp, outputs=output_layer)\n",
    "\n",
    "#Network 3 for distinguishing which network's output to be used\n",
    "def make_model2(X_Train):\n",
    "    input_layer = Input(shape=(X_Train.shape[1], X_Train.shape[2]))\n",
    "\n",
    "    conv1 = Conv1D(filters=16, kernel_size=3, strides=1,\n",
    "                    padding='same',activation='relu')(input_layer)\n",
    "    conv2 = Conv1D(filters=32, kernel_size=3,strides = 1,\n",
    "                          padding='same', activation='relu')(conv1)\n",
    "    conv3 = Conv1D(filters=64, kernel_size=3,strides = 1,\n",
    "                          padding='same', activation='relu')(conv2)\n",
    "\n",
    "    flatten = Flatten()(conv3)\n",
    "\n",
    "    dense1 = Dense(1152, activation='relu')(flatten)\n",
    "    dense2 = Dense(576, activation='relu')(dense1)\n",
    "    output_layer = Dense(2, activation='softmax')(dense2)\n",
    "    \n",
    "    return Model(inputs=input_layer, outputs=output_layer)"
   ]
  },
  {
   "cell_type": "code",
   "execution_count": 31,
   "metadata": {
    "colab": {
     "base_uri": "https://localhost:8080/"
    },
    "id": "mHTxBt6R2sU_",
    "outputId": "31972258-4f7d-4d9a-e19c-ceaedf1e0c82"
   },
   "outputs": [
    {
     "name": "stdout",
     "output_type": "stream",
     "text": [
      "Iteration: 1\n",
      "Train on 6069 samples, validate on 1504 samples\n",
      "Epoch 1/10\n",
      "6069/6069 [==============================] - 22s 4ms/step - loss: 1059648.0632 - val_loss: 1426381.8897\n",
      "Epoch 2/10\n",
      "6069/6069 [==============================] - 18s 3ms/step - loss: 890926.2313 - val_loss: 1202100.4975\n",
      "Epoch 3/10\n",
      "6069/6069 [==============================] - 18s 3ms/step - loss: 791746.9652 - val_loss: 1237070.9690\n",
      "Epoch 4/10\n",
      "6069/6069 [==============================] - 18s 3ms/step - loss: 790039.0003 - val_loss: 1148878.8678\n",
      "Epoch 5/10\n",
      "6069/6069 [==============================] - 18s 3ms/step - loss: 787522.3372 - val_loss: 1141185.4810\n",
      "Epoch 6/10\n",
      "6069/6069 [==============================] - 17s 3ms/step - loss: 771696.1801 - val_loss: 1181911.4390\n",
      "Epoch 7/10\n",
      "6069/6069 [==============================] - 18s 3ms/step - loss: 823282.2803 - val_loss: 1190179.1495\n",
      "Epoch 8/10\n",
      "6069/6069 [==============================] - 18s 3ms/step - loss: 785325.4545 - val_loss: 1153909.6012\n",
      "Epoch 9/10\n",
      "6069/6069 [==============================] - 18s 3ms/step - loss: 800892.3776 - val_loss: 1284684.7237\n",
      "Epoch 10/10\n",
      "6069/6069 [==============================] - 18s 3ms/step - loss: 840943.0332 - val_loss: 1180447.0334\n",
      "--------------------------\n",
      "\n",
      "Starting time: 1627354310.34741\n",
      "Completing time: 1627354493.897918\n",
      "It took -3.059175133705139 minutes to train the model for 1 iterations\n"
     ]
    }
   ],
   "source": [
    "# Network1 Training\n",
    "mse_for_iter = []\n",
    "train_loss_over_epoch = []\n",
    "val_loss_over_epoch = []\n",
    "predicted_y_values_unnors = []\n",
    "models = []\n",
    "def run_iteration(no_iter=20, epochs = 10):\n",
    "    start_time = time.time()\n",
    "    for iteration in range(no_iter):\n",
    "        print(f'Iteration: {iteration + 1}')\n",
    "        K.clear_session()\n",
    "        model = make_model(X_Train)\n",
    "        #plot_model(model, show_shapes=True)\n",
    "        model.compile(optimizer = 'adam', loss = 'mean_squared_error')\n",
    "        history = model.fit(X_Train, Y_Train, epochs=epochs,\n",
    "                       validation_data=(X_Test, Y_Test))\n",
    "        train_loss_over_epoch.append(history.history['loss'])\n",
    "        val_loss_over_epoch.append(history.history['val_loss'])\n",
    "        predicted_y_values = model.predict(X_Test)\n",
    "        #predicted_y_values_unnor = ytrain_min_max_scaler.inverse_transform(predicted_y_values)\n",
    "        mse_for_iter.append(mean_squared_error(predicted_y_values, Y_test_actual))\n",
    "        predicted_y_values_unnors.append(predicted_y_values)\n",
    "        models.append(model)\n",
    "        \n",
    "    end_time = time.time()\n",
    "    print('--------------------------\\n')\n",
    "    print(f'Starting time: {start_time}')\n",
    "    print(f'Completing time: {end_time}')\n",
    "    print(f'It took {(start_time - end_time)/60} minutes to train the model for {no_iter} iterations')\n",
    "    #return predicted unnormalized values for test set from last iteration \n",
    "    return predicted_y_values, model\n",
    "\n",
    "predicted_y_values_unnor, model = run_iteration(1,10)"
   ]
  },
  {
   "cell_type": "code",
   "execution_count": 32,
   "metadata": {
    "colab": {
     "base_uri": "https://localhost:8080/"
    },
    "id": "w0NCUtvT2sVA",
    "outputId": "83523f23-b13d-442e-b815-7ad5265fd8cd"
   },
   "outputs": [
    {
     "name": "stdout",
     "output_type": "stream",
     "text": [
      "Iteration: 1\n",
      "Train on 90 samples, validate on 30 samples\n",
      "Epoch 1/10\n",
      "90/90 [==============================] - 4s 40ms/step - loss: 87697133.1556 - val_loss: 109119016.0000\n",
      "Epoch 2/10\n",
      "90/90 [==============================] - 0s 3ms/step - loss: 87693050.3111 - val_loss: 109113632.0000\n",
      "Epoch 3/10\n",
      "90/90 [==============================] - 0s 3ms/step - loss: 87686553.6000 - val_loss: 109103400.0000\n",
      "Epoch 4/10\n",
      "90/90 [==============================] - 0s 3ms/step - loss: 87674092.2667 - val_loss: 109083560.0000\n",
      "Epoch 5/10\n",
      "90/90 [==============================] - 0s 3ms/step - loss: 87651126.7556 - val_loss: 109050912.0000\n",
      "Epoch 6/10\n",
      "90/90 [==============================] - 0s 3ms/step - loss: 87617194.4889 - val_loss: 109009944.0000\n",
      "Epoch 7/10\n",
      "90/90 [==============================] - 0s 3ms/step - loss: 87575700.0889 - val_loss: 108960880.0000\n",
      "Epoch 8/10\n",
      "90/90 [==============================] - 0s 3ms/step - loss: 87524798.2222 - val_loss: 108899216.0000\n",
      "Epoch 9/10\n",
      "90/90 [==============================] - 0s 3ms/step - loss: 87459961.7778 - val_loss: 108820888.0000\n",
      "Epoch 10/10\n",
      "90/90 [==============================] - 0s 3ms/step - loss: 87377908.4444 - val_loss: 108724552.0000\n",
      "--------------------------\n",
      "\n",
      "Starting time: 1627354493.903744\n",
      "Completing time: 1627354503.398319\n",
      "It took -0.15824291706085206 minutes to train the model for 1 iterations\n"
     ]
    }
   ],
   "source": [
    "# Network2 Training\n",
    "mse_for_iter1 = []\n",
    "train_loss_over_epoch1 = []\n",
    "val_loss_over_epoch1 = []\n",
    "predicted_y_values_unnors1 = []\n",
    "models1 = []\n",
    "def run_iteration1(no_iter=20, epochs = 10):\n",
    "    start_time = time.time()\n",
    "    for iteration in range(no_iter):\n",
    "        print(f'Iteration: {iteration + 1}')\n",
    "        K.clear_session()\n",
    "        model1 = make_model1(X_Train_abv_thres)\n",
    "        #plot_model(model, show_shapes=True)\n",
    "        model1.compile(optimizer = 'adam', loss = 'mean_squared_error')\n",
    "        history = model1.fit(X_Train_abv_thres, Y_Train_abv_thres, epochs=epochs,\n",
    "                       validation_data=(X_Test_abv_thres, Y_Test_abv_thres))\n",
    "        train_loss_over_epoch1.append(history.history['loss'])\n",
    "        val_loss_over_epoch1.append(history.history['val_loss'])\n",
    "        predicted_y_values1 = model1.predict(X_Test1)\n",
    "        #predicted_y_values_unnor1 = ytrain_min_max_scaler_ext.inverse_transform(predicted_y_values1)\n",
    "        mse_for_iter1.append(mean_squared_error(predicted_y_values1, Y_test_actual1))\n",
    "        predicted_y_values_unnors1.append(predicted_y_values1)\n",
    "        models1.append(model1)\n",
    "        \n",
    "    end_time = time.time()\n",
    "    print('--------------------------\\n')\n",
    "    print(f'Starting time: {start_time}')\n",
    "    print(f'Completing time: {end_time}')\n",
    "    print(f'It took {(start_time - end_time)/60} minutes to train the model for {no_iter} iterations')\n",
    "    #return predicted unnormalized values for test set from last iteration \n",
    "    return predicted_y_values1, model1\n",
    "\n",
    "predicted_y_values_unnor1, model1 = run_iteration1(1,10)"
   ]
  },
  {
   "cell_type": "code",
   "execution_count": 33,
   "metadata": {
    "colab": {
     "base_uri": "https://localhost:8080/"
    },
    "id": "VotaZOfe2sVA",
    "outputId": "21b1fc16-668b-4c18-b542-c16647504260"
   },
   "outputs": [
    {
     "name": "stdout",
     "output_type": "stream",
     "text": [
      "Iteration: 1\n",
      "Train on 12170 samples, validate on 1528 samples\n",
      "Epoch 1/10\n",
      "12170/12170 [==============================] - 16s 1ms/step - loss: 7.7009 - accuracy: 0.4993 - val_loss: 0.3019 - val_accuracy: 0.9804\n",
      "Epoch 2/10\n",
      "12170/12170 [==============================] - 15s 1ms/step - loss: 7.6997 - accuracy: 0.4993 - val_loss: 0.3019 - val_accuracy: 0.9804\n",
      "Epoch 3/10\n",
      "12170/12170 [==============================] - 15s 1ms/step - loss: 7.6997 - accuracy: 0.4993 - val_loss: 0.3019 - val_accuracy: 0.9804\n",
      "Epoch 4/10\n",
      "12170/12170 [==============================] - 15s 1ms/step - loss: 7.6997 - accuracy: 0.4993 - val_loss: 0.3019 - val_accuracy: 0.9804\n",
      "Epoch 5/10\n",
      "12170/12170 [==============================] - 15s 1ms/step - loss: 7.6997 - accuracy: 0.4993 - val_loss: 0.3019 - val_accuracy: 0.9804\n",
      "Epoch 6/10\n",
      "12170/12170 [==============================] - 16s 1ms/step - loss: 7.6997 - accuracy: 0.4993 - val_loss: 0.3019 - val_accuracy: 0.9804\n",
      "Epoch 7/10\n",
      "12170/12170 [==============================] - 15s 1ms/step - loss: 7.6997 - accuracy: 0.4993 - val_loss: 0.3019 - val_accuracy: 0.9804\n",
      "Epoch 8/10\n",
      "12170/12170 [==============================] - 15s 1ms/step - loss: 7.6997 - accuracy: 0.4993 - val_loss: 0.3019 - val_accuracy: 0.9804\n",
      "Epoch 9/10\n",
      "12170/12170 [==============================] - 15s 1ms/step - loss: 7.6997 - accuracy: 0.4993 - val_loss: 0.3019 - val_accuracy: 0.9804\n",
      "Epoch 10/10\n",
      "12170/12170 [==============================] - 15s 1ms/step - loss: 7.6997 - accuracy: 0.4993 - val_loss: 0.3019 - val_accuracy: 0.9804\n",
      "--------------------------\n",
      "\n",
      "Starting time: 1627354503.404347\n",
      "Completing time: 1627354657.556673\n",
      "It took -2.5692054351170857 minutes to train the model for 1 iterations\n"
     ]
    }
   ],
   "source": [
    "# Network3 Training\n",
    "# mse_for_iter2 = []\n",
    "train_loss_over_epoch2 = []\n",
    "val_loss_over_epoch2 = []\n",
    "all_actual_values = []\n",
    "models2 = []\n",
    "def run_iteration2(no_iter=20, epochs = 10):\n",
    "    start_time = time.time()\n",
    "    for iteration in range(no_iter):\n",
    "        print(f'Iteration: {iteration + 1}')\n",
    "        K.clear_session()\n",
    "        model2 = make_model2(X_Train_dis)\n",
    "        #plot_model(model, show_shapes=True)\n",
    "        model2.compile(optimizer = 'adam', loss = 'binary_crossentropy', metrics= ['accuracy'])\n",
    "        history = model2.fit(X_Train_dis, Y_Train_disc, epochs=epochs,\n",
    "                       validation_data=(X_Test_dis, Y_Test_disc))\n",
    "        train_loss_over_epoch2.append(history.history['loss'])\n",
    "        val_loss_over_epoch2.append(history.history['val_loss'])\n",
    "        predicted_y_values2 = model2.predict(X_Test_dis)\n",
    "#         predicted_y_values_unnor2 = ytrain_min_max_scaler.inverse_transform(predicted_y_values2)\n",
    "#         mse_for_iter2.append(mean_squared_error(predicted_y_values_unnor, Y_test_actual))\n",
    "        actual_values = np.argmax(predicted_y_values2, axis = 1)\n",
    "#         predicted_y_values_unnors.append(actual_values)\n",
    "        models2.append(model2)\n",
    "        \n",
    "    end_time = time.time()\n",
    "    print('--------------------------\\n')\n",
    "    print(f'Starting time: {start_time}')\n",
    "    print(f'Completing time: {end_time}')\n",
    "    print(f'It took {(start_time - end_time)/60} minutes to train the model for {no_iter} iterations')\n",
    "    #return predicted unnormalized values for test set from last iteration \n",
    "    return actual_values, model2\n",
    "\n",
    "actual_values, model2 = run_iteration2(1,10)"
   ]
  },
  {
   "cell_type": "code",
   "execution_count": 34,
   "metadata": {
    "colab": {
     "base_uri": "https://localhost:8080/"
    },
    "id": "WKiv7uqS2sVB",
    "outputId": "4f3830cf-e1d1-4e13-d693-8c42fe8ccc93"
   },
   "outputs": [
    {
     "data": {
      "text/plain": [
       "[1180447.0402997886]"
      ]
     },
     "execution_count": 34,
     "metadata": {},
     "output_type": "execute_result"
    }
   ],
   "source": [
    "mse_for_iter"
   ]
  },
  {
   "cell_type": "code",
   "execution_count": 35,
   "metadata": {
    "colab": {
     "base_uri": "https://localhost:8080/"
    },
    "id": "53roymst2sVB",
    "outputId": "defbe560-cc79-476a-80f7-60d78930e153"
   },
   "outputs": [
    {
     "data": {
      "text/plain": [
       "[2545059.3351867343]"
      ]
     },
     "execution_count": 35,
     "metadata": {},
     "output_type": "execute_result"
    }
   ],
   "source": [
    "mse_for_iter1"
   ]
  },
  {
   "cell_type": "code",
   "execution_count": 36,
   "metadata": {},
   "outputs": [
    {
     "data": {
      "text/plain": [
       "{0.0: 6077, 1.0: 6093}"
      ]
     },
     "execution_count": 36,
     "metadata": {},
     "output_type": "execute_result"
    }
   ],
   "source": [
    "unique, counts = np.unique(Y_Train_dis, return_counts=True)\n",
    "dict(zip(unique, counts))"
   ]
  },
  {
   "cell_type": "code",
   "execution_count": 37,
   "metadata": {},
   "outputs": [],
   "source": [
    "cm = confusion_matrix(Y_Test_dis, actual_values)"
   ]
  },
  {
   "cell_type": "code",
   "execution_count": 38,
   "metadata": {},
   "outputs": [],
   "source": [
    "#for creating confusion matrix\n",
    "def plot_confusion_matrix(cm,\n",
    "                          target_names,\n",
    "                          title='Confusion matrix',\n",
    "                          cmap=None,\n",
    "                          normalize=True):\n",
    "    \"\"\"\n",
    "    given a sklearn confusion matrix (cm), make a nice plot\n",
    "\n",
    "    Arguments\n",
    "    ---------\n",
    "    cm:           confusion matrix from sklearn.metrics.confusion_matrix\n",
    "\n",
    "    target_names: given classification classes such as [0, 1, 2]\n",
    "                  the class names, for example: ['high', 'medium', 'low']\n",
    "\n",
    "    title:        the text to display at the top of the matrix\n",
    "\n",
    "    cmap:         the gradient of the values displayed from matplotlib.pyplot.cm\n",
    "                  see http://matplotlib.org/examples/color/colormaps_reference.html\n",
    "                  plt.get_cmap('jet') or plt.cm.Blues\n",
    "\n",
    "    normalize:    If False, plot the raw numbers\n",
    "                  If True, plot the proportions\n",
    "\n",
    "    Usage\n",
    "    -----\n",
    "    plot_confusion_matrix(cm           = cm,                  # confusion matrix created by\n",
    "                                                              # sklearn.metrics.confusion_matrix\n",
    "                          normalize    = True,                # show proportions\n",
    "                          target_names = y_labels_vals,       # list of names of the classes\n",
    "                          title        = best_estimator_name) # title of graph\n",
    "\n",
    "    Citiation\n",
    "    ---------\n",
    "    http://scikit-learn.org/stable/auto_examples/model_selection/plot_confusion_matrix.html\n",
    "\n",
    "    \"\"\"\n",
    "    import matplotlib.pyplot as plt\n",
    "    import numpy as np\n",
    "    import itertools\n",
    "\n",
    "    accuracy = np.trace(cm) / np.sum(cm).astype('float')\n",
    "    misclass = 1 - accuracy\n",
    "\n",
    "    if cmap is None:\n",
    "        cmap = plt.get_cmap('Blues')\n",
    "\n",
    "    plt.figure(figsize=(8, 6))\n",
    "    plt.imshow(cm, interpolation='nearest', cmap=cmap)\n",
    "    plt.title(title)\n",
    "    plt.colorbar()\n",
    "\n",
    "    if target_names is not None:\n",
    "        tick_marks = np.arange(len(target_names))\n",
    "        plt.xticks(tick_marks, target_names, rotation=45)\n",
    "        plt.yticks(tick_marks, target_names)\n",
    "\n",
    "    if normalize:\n",
    "        cm = cm.astype('float') / cm.sum(axis=1)[:, np.newaxis]\n",
    "\n",
    "\n",
    "    thresh = cm.max() / 1.5 if normalize else cm.max() / 2\n",
    "    for i, j in itertools.product(range(cm.shape[0]), range(cm.shape[1])):\n",
    "        if normalize:\n",
    "            plt.text(j, i, \"{:0.4f}\".format(cm[i, j]),\n",
    "                     horizontalalignment=\"center\",\n",
    "                     color=\"white\" if cm[i, j] > thresh else \"black\")\n",
    "        else:\n",
    "            plt.text(j, i, \"{:,}\".format(cm[i, j]),\n",
    "                     horizontalalignment=\"center\",\n",
    "                     color=\"white\" if cm[i, j] > thresh else \"black\")\n",
    "\n",
    "\n",
    "    plt.tight_layout()\n",
    "    plt.ylabel('True label')\n",
    "    plt.xlabel('Predicted label\\naccuracy={:0.4f}; misclass={:0.4f}'.format(accuracy, misclass))\n",
    "    plt.savefig('ConfusionMatrix.png', bbox_inches='tight')\n",
    "    plt.show()"
   ]
  },
  {
   "cell_type": "code",
   "execution_count": 39,
   "metadata": {},
   "outputs": [
    {
     "data": {
      "image/png": "[encoded data removed]",
      "text/plain": [
       "<Figure size 576x432 with 2 Axes>"
      ]
     },
     "metadata": {
      "needs_background": "light"
     },
     "output_type": "display_data"
    }
   ],
   "source": [
    "plot_confusion_matrix(cm, \n",
    "                      ['Normal', 'Extreme'], \n",
    "                      title='Confusion matrix',\n",
    "                      cmap=None,\n",
    "                      normalize=False)"
   ]
  },
  {
   "cell_type": "markdown",
   "metadata": {
    "id": "Ok2ED3Jx2sVB"
   },
   "source": [
    "## check for all the values in network 1 and create a dataframe to handpick values from network 1 or network 2"
   ]
  },
  {
   "cell_type": "code",
   "execution_count": 40,
   "metadata": {
    "id": "62n5MhlN2sVB"
   },
   "outputs": [],
   "source": [
    "predicted_y_values_unnor = model.predict(X_Test1)\n",
    "#predicted_y_values_unnor = ytrain_min_max_scaler.inverse_transform(predicted_y_values)"
   ]
  },
  {
   "cell_type": "code",
   "execution_count": 41,
   "metadata": {
    "colab": {
     "base_uri": "https://localhost:8080/"
    },
    "id": "7CigJOlv2sVC",
    "outputId": "b6c38e74-1cad-49c2-f82d-ec6ea94e89f9"
   },
   "outputs": [
    {
     "data": {
      "text/plain": [
       "numpy.ndarray"
      ]
     },
     "execution_count": 41,
     "metadata": {},
     "output_type": "execute_result"
    }
   ],
   "source": [
    "type(predicted_y_values_unnor)"
   ]
  },
  {
   "cell_type": "code",
   "execution_count": 42,
   "metadata": {
    "id": "u0XbGTPy2sVC"
   },
   "outputs": [],
   "source": [
    "result_df = pd.DataFrame(predicted_y_values_unnor, columns=['Network1'])"
   ]
  },
  {
   "cell_type": "code",
   "execution_count": 43,
   "metadata": {
    "colab": {
     "base_uri": "https://localhost:8080/",
     "height": 419
    },
    "id": "XuNKZxjS2sVC",
    "outputId": "5568fda2-62f3-48e8-9de2-9ca4ba48839a"
   },
   "outputs": [
    {
     "data": {
      "text/html": [
       "<div>\n",
       "<style scoped>\n",
       "    .dataframe tbody tr th:only-of-type {\n",
       "        vertical-align: middle;\n",
       "    }\n",
       "\n",
       "    .dataframe tbody tr th {\n",
       "        vertical-align: top;\n",
       "    }\n",
       "\n",
       "    .dataframe thead th {\n",
       "        text-align: right;\n",
       "    }\n",
       "</style>\n",
       "<table border=\"1\" class=\"dataframe\">\n",
       "  <thead>\n",
       "    <tr style=\"text-align: right;\">\n",
       "      <th></th>\n",
       "      <th>Network1</th>\n",
       "    </tr>\n",
       "  </thead>\n",
       "  <tbody>\n",
       "    <tr>\n",
       "      <th>0</th>\n",
       "      <td>21.357697</td>\n",
       "    </tr>\n",
       "    <tr>\n",
       "      <th>1</th>\n",
       "      <td>21.090815</td>\n",
       "    </tr>\n",
       "    <tr>\n",
       "      <th>2</th>\n",
       "      <td>20.947533</td>\n",
       "    </tr>\n",
       "    <tr>\n",
       "      <th>3</th>\n",
       "      <td>20.883209</td>\n",
       "    </tr>\n",
       "    <tr>\n",
       "      <th>4</th>\n",
       "      <td>20.868616</td>\n",
       "    </tr>\n",
       "    <tr>\n",
       "      <th>...</th>\n",
       "      <td>...</td>\n",
       "    </tr>\n",
       "    <tr>\n",
       "      <th>1523</th>\n",
       "      <td>1514.694458</td>\n",
       "    </tr>\n",
       "    <tr>\n",
       "      <th>1524</th>\n",
       "      <td>462.572327</td>\n",
       "    </tr>\n",
       "    <tr>\n",
       "      <th>1525</th>\n",
       "      <td>24.152754</td>\n",
       "    </tr>\n",
       "    <tr>\n",
       "      <th>1526</th>\n",
       "      <td>1280.064819</td>\n",
       "    </tr>\n",
       "    <tr>\n",
       "      <th>1527</th>\n",
       "      <td>1769.482788</td>\n",
       "    </tr>\n",
       "  </tbody>\n",
       "</table>\n",
       "<p>1528 rows × 1 columns</p>\n",
       "</div>"
      ],
      "text/plain": [
       "         Network1\n",
       "0       21.357697\n",
       "1       21.090815\n",
       "2       20.947533\n",
       "3       20.883209\n",
       "4       20.868616\n",
       "...           ...\n",
       "1523  1514.694458\n",
       "1524   462.572327\n",
       "1525    24.152754\n",
       "1526  1280.064819\n",
       "1527  1769.482788\n",
       "\n",
       "[1528 rows x 1 columns]"
      ]
     },
     "execution_count": 43,
     "metadata": {},
     "output_type": "execute_result"
    }
   ],
   "source": [
    "result_df"
   ]
  },
  {
   "cell_type": "code",
   "execution_count": 44,
   "metadata": {
    "colab": {
     "base_uri": "https://localhost:8080/"
    },
    "id": "7LxhkoyA2sVC",
    "outputId": "0afce2fb-77bb-4a33-dfff-22019790d4d2"
   },
   "outputs": [
    {
     "data": {
      "text/plain": [
       "(1528, 1)"
      ]
     },
     "execution_count": 44,
     "metadata": {},
     "output_type": "execute_result"
    }
   ],
   "source": [
    "predicted_y_values_unnor1.shape"
   ]
  },
  {
   "cell_type": "code",
   "execution_count": 45,
   "metadata": {
    "id": "agQZhN7L2sVC"
   },
   "outputs": [],
   "source": [
    "#predicted_y_values_unnor.reshape(1,-1)"
   ]
  },
  {
   "cell_type": "code",
   "execution_count": null,
   "metadata": {},
   "outputs": [],
   "source": []
  },
  {
   "cell_type": "code",
   "execution_count": 46,
   "metadata": {
    "id": "bKiDdN7K2sVC"
   },
   "outputs": [],
   "source": [
    "result_df['Network2'] = predicted_y_values_unnor1"
   ]
  },
  {
   "cell_type": "code",
   "execution_count": 47,
   "metadata": {
    "id": "RggG9Az22sVD"
   },
   "outputs": [],
   "source": [
    "result_df['Discriminator'] = actual_values"
   ]
  },
  {
   "cell_type": "code",
   "execution_count": 48,
   "metadata": {
    "colab": {
     "base_uri": "https://localhost:8080/",
     "height": 265
    },
    "id": "VcgMz1a52sVD",
    "outputId": "743d8652-4fb6-44c2-b87e-b2432f42998a"
   },
   "outputs": [
    {
     "data": {
      "image/png": "[encoded data removed]",
      "text/plain": [
       "<Figure size 432x288 with 1 Axes>"
      ]
     },
     "metadata": {
      "needs_background": "light"
     },
     "output_type": "display_data"
    }
   ],
   "source": [
    "plt.plot(actual_values, 'bo')\n",
    "plt.show()"
   ]
  },
  {
   "cell_type": "code",
   "execution_count": 49,
   "metadata": {
    "colab": {
     "base_uri": "https://localhost:8080/"
    },
    "id": "8b44Wisi2sVD",
    "outputId": "12851633-1b46-4d25-b2d5-211e3bbc78f3"
   },
   "outputs": [
    {
     "data": {
      "text/plain": [
       "array([0])"
      ]
     },
     "execution_count": 49,
     "metadata": {},
     "output_type": "execute_result"
    }
   ],
   "source": [
    "np.unique(actual_values)"
   ]
  },
  {
   "cell_type": "code",
   "execution_count": 50,
   "metadata": {
    "colab": {
     "base_uri": "https://localhost:8080/",
     "height": 204
    },
    "id": "VjSc_aAK2sVD",
    "outputId": "e6c9249d-020e-4910-8ea9-9eeb7592b470"
   },
   "outputs": [
    {
     "data": {
      "text/html": [
       "<div>\n",
       "<style scoped>\n",
       "    .dataframe tbody tr th:only-of-type {\n",
       "        vertical-align: middle;\n",
       "    }\n",
       "\n",
       "    .dataframe tbody tr th {\n",
       "        vertical-align: top;\n",
       "    }\n",
       "\n",
       "    .dataframe thead th {\n",
       "        text-align: right;\n",
       "    }\n",
       "</style>\n",
       "<table border=\"1\" class=\"dataframe\">\n",
       "  <thead>\n",
       "    <tr style=\"text-align: right;\">\n",
       "      <th></th>\n",
       "      <th>Network1</th>\n",
       "      <th>Network2</th>\n",
       "      <th>Discriminator</th>\n",
       "    </tr>\n",
       "  </thead>\n",
       "  <tbody>\n",
       "    <tr>\n",
       "      <th>0</th>\n",
       "      <td>21.357697</td>\n",
       "      <td>22.235937</td>\n",
       "      <td>0</td>\n",
       "    </tr>\n",
       "    <tr>\n",
       "      <th>1</th>\n",
       "      <td>21.090815</td>\n",
       "      <td>22.236078</td>\n",
       "      <td>0</td>\n",
       "    </tr>\n",
       "    <tr>\n",
       "      <th>2</th>\n",
       "      <td>20.947533</td>\n",
       "      <td>22.236086</td>\n",
       "      <td>0</td>\n",
       "    </tr>\n",
       "    <tr>\n",
       "      <th>3</th>\n",
       "      <td>20.883209</td>\n",
       "      <td>22.236120</td>\n",
       "      <td>0</td>\n",
       "    </tr>\n",
       "    <tr>\n",
       "      <th>4</th>\n",
       "      <td>20.868616</td>\n",
       "      <td>22.236237</td>\n",
       "      <td>0</td>\n",
       "    </tr>\n",
       "  </tbody>\n",
       "</table>\n",
       "</div>"
      ],
      "text/plain": [
       "    Network1   Network2  Discriminator\n",
       "0  21.357697  22.235937              0\n",
       "1  21.090815  22.236078              0\n",
       "2  20.947533  22.236086              0\n",
       "3  20.883209  22.236120              0\n",
       "4  20.868616  22.236237              0"
      ]
     },
     "execution_count": 50,
     "metadata": {},
     "output_type": "execute_result"
    }
   ],
   "source": [
    "result_df.head()"
   ]
  },
  {
   "cell_type": "code",
   "execution_count": 51,
   "metadata": {
    "colab": {
     "base_uri": "https://localhost:8080/"
    },
    "id": "4Hkulbez2sVD",
    "outputId": "11fe3426-f0ec-4319-9a17-b9abdc513811"
   },
   "outputs": [
    {
     "data": {
      "text/plain": [
       "array([0., 0., 0., ..., 0., 0., 0.])"
      ]
     },
     "execution_count": 51,
     "metadata": {},
     "output_type": "execute_result"
    }
   ],
   "source": [
    "np.zeros(len(result_df))\n"
   ]
  },
  {
   "cell_type": "code",
   "execution_count": 52,
   "metadata": {
    "id": "H1Myf3rL2sVD"
   },
   "outputs": [],
   "source": [
    "result_df['Result'] = np.zeros(len(result_df))"
   ]
  },
  {
   "cell_type": "code",
   "execution_count": 53,
   "metadata": {
    "colab": {
     "base_uri": "https://localhost:8080/"
    },
    "id": "de4UcCr82sVE",
    "outputId": "29b447a6-e93a-4f2a-9616-80c9c78e0ea5"
   },
   "outputs": [
    {
     "data": {
      "text/plain": [
       "0.0"
      ]
     },
     "execution_count": 53,
     "metadata": {},
     "output_type": "execute_result"
    }
   ],
   "source": [
    "result_df.Result[1]"
   ]
  },
  {
   "cell_type": "code",
   "execution_count": 54,
   "metadata": {},
   "outputs": [
    {
     "data": {
      "text/html": [
       "<div>\n",
       "<style scoped>\n",
       "    .dataframe tbody tr th:only-of-type {\n",
       "        vertical-align: middle;\n",
       "    }\n",
       "\n",
       "    .dataframe tbody tr th {\n",
       "        vertical-align: top;\n",
       "    }\n",
       "\n",
       "    .dataframe thead th {\n",
       "        text-align: right;\n",
       "    }\n",
       "</style>\n",
       "<table border=\"1\" class=\"dataframe\">\n",
       "  <thead>\n",
       "    <tr style=\"text-align: right;\">\n",
       "      <th></th>\n",
       "      <th>Network1</th>\n",
       "      <th>Network2</th>\n",
       "      <th>Discriminator</th>\n",
       "      <th>Result</th>\n",
       "    </tr>\n",
       "  </thead>\n",
       "  <tbody>\n",
       "    <tr>\n",
       "      <th>0</th>\n",
       "      <td>21.357697</td>\n",
       "      <td>22.235937</td>\n",
       "      <td>0</td>\n",
       "      <td>0.0</td>\n",
       "    </tr>\n",
       "    <tr>\n",
       "      <th>1</th>\n",
       "      <td>21.090815</td>\n",
       "      <td>22.236078</td>\n",
       "      <td>0</td>\n",
       "      <td>0.0</td>\n",
       "    </tr>\n",
       "    <tr>\n",
       "      <th>2</th>\n",
       "      <td>20.947533</td>\n",
       "      <td>22.236086</td>\n",
       "      <td>0</td>\n",
       "      <td>0.0</td>\n",
       "    </tr>\n",
       "    <tr>\n",
       "      <th>3</th>\n",
       "      <td>20.883209</td>\n",
       "      <td>22.236120</td>\n",
       "      <td>0</td>\n",
       "      <td>0.0</td>\n",
       "    </tr>\n",
       "    <tr>\n",
       "      <th>4</th>\n",
       "      <td>20.868616</td>\n",
       "      <td>22.236237</td>\n",
       "      <td>0</td>\n",
       "      <td>0.0</td>\n",
       "    </tr>\n",
       "  </tbody>\n",
       "</table>\n",
       "</div>"
      ],
      "text/plain": [
       "    Network1   Network2  Discriminator  Result\n",
       "0  21.357697  22.235937              0     0.0\n",
       "1  21.090815  22.236078              0     0.0\n",
       "2  20.947533  22.236086              0     0.0\n",
       "3  20.883209  22.236120              0     0.0\n",
       "4  20.868616  22.236237              0     0.0"
      ]
     },
     "execution_count": 54,
     "metadata": {},
     "output_type": "execute_result"
    }
   ],
   "source": [
    "result_df.head()"
   ]
  },
  {
   "cell_type": "code",
   "execution_count": 55,
   "metadata": {
    "colab": {
     "base_uri": "https://localhost:8080/"
    },
    "id": "--cv-Hif2sVE",
    "outputId": "ce8f3207-4867-4e3d-fd41-9c331db22a61"
   },
   "outputs": [
    {
     "name": "stderr",
     "output_type": "stream",
     "text": [
      "/Users/bidurbhurtel/anaconda3/envs/tf/lib/python3.7/site-packages/ipykernel_launcher.py:6: SettingWithCopyWarning: \n",
      "A value is trying to be set on a copy of a slice from a DataFrame\n",
      "\n",
      "See the caveats in the documentation: https://pandas.pydata.org/pandas-docs/stable/user_guide/indexing.html#returning-a-view-versus-a-copy\n",
      "  \n"
     ]
    }
   ],
   "source": [
    "l = len(result_df)\n",
    "for i in range(l):\n",
    "    if result_df.Discriminator[i] == 1:\n",
    "        result_df['Result'][i] = result_df.Network2[i]\n",
    "    else:\n",
    "        result_df['Result'][i] = result_df.Network1[i]"
   ]
  },
  {
   "cell_type": "code",
   "execution_count": 56,
   "metadata": {
    "colab": {
     "base_uri": "https://localhost:8080/",
     "height": 419
    },
    "id": "rQc1_EDR2sVE",
    "outputId": "0e2d6e84-ff9e-429f-c5bd-8e342cfcdd42"
   },
   "outputs": [
    {
     "data": {
      "text/html": [
       "<div>\n",
       "<style scoped>\n",
       "    .dataframe tbody tr th:only-of-type {\n",
       "        vertical-align: middle;\n",
       "    }\n",
       "\n",
       "    .dataframe tbody tr th {\n",
       "        vertical-align: top;\n",
       "    }\n",
       "\n",
       "    .dataframe thead th {\n",
       "        text-align: right;\n",
       "    }\n",
       "</style>\n",
       "<table border=\"1\" class=\"dataframe\">\n",
       "  <thead>\n",
       "    <tr style=\"text-align: right;\">\n",
       "      <th></th>\n",
       "      <th>Network1</th>\n",
       "      <th>Network2</th>\n",
       "      <th>Discriminator</th>\n",
       "      <th>Result</th>\n",
       "    </tr>\n",
       "  </thead>\n",
       "  <tbody>\n",
       "    <tr>\n",
       "      <th>0</th>\n",
       "      <td>21.357697</td>\n",
       "      <td>22.235937</td>\n",
       "      <td>0</td>\n",
       "      <td>21.357697</td>\n",
       "    </tr>\n",
       "    <tr>\n",
       "      <th>1</th>\n",
       "      <td>21.090815</td>\n",
       "      <td>22.236078</td>\n",
       "      <td>0</td>\n",
       "      <td>21.090815</td>\n",
       "    </tr>\n",
       "    <tr>\n",
       "      <th>2</th>\n",
       "      <td>20.947533</td>\n",
       "      <td>22.236086</td>\n",
       "      <td>0</td>\n",
       "      <td>20.947533</td>\n",
       "    </tr>\n",
       "    <tr>\n",
       "      <th>3</th>\n",
       "      <td>20.883209</td>\n",
       "      <td>22.236120</td>\n",
       "      <td>0</td>\n",
       "      <td>20.883209</td>\n",
       "    </tr>\n",
       "    <tr>\n",
       "      <th>4</th>\n",
       "      <td>20.868616</td>\n",
       "      <td>22.236237</td>\n",
       "      <td>0</td>\n",
       "      <td>20.868616</td>\n",
       "    </tr>\n",
       "    <tr>\n",
       "      <th>...</th>\n",
       "      <td>...</td>\n",
       "      <td>...</td>\n",
       "      <td>...</td>\n",
       "      <td>...</td>\n",
       "    </tr>\n",
       "    <tr>\n",
       "      <th>1523</th>\n",
       "      <td>1514.694458</td>\n",
       "      <td>22.274364</td>\n",
       "      <td>0</td>\n",
       "      <td>1514.694458</td>\n",
       "    </tr>\n",
       "    <tr>\n",
       "      <th>1524</th>\n",
       "      <td>462.572327</td>\n",
       "      <td>22.264450</td>\n",
       "      <td>0</td>\n",
       "      <td>462.572327</td>\n",
       "    </tr>\n",
       "    <tr>\n",
       "      <th>1525</th>\n",
       "      <td>24.152754</td>\n",
       "      <td>22.272684</td>\n",
       "      <td>0</td>\n",
       "      <td>24.152754</td>\n",
       "    </tr>\n",
       "    <tr>\n",
       "      <th>1526</th>\n",
       "      <td>1280.064819</td>\n",
       "      <td>22.276203</td>\n",
       "      <td>0</td>\n",
       "      <td>1280.064819</td>\n",
       "    </tr>\n",
       "    <tr>\n",
       "      <th>1527</th>\n",
       "      <td>1769.482788</td>\n",
       "      <td>22.265377</td>\n",
       "      <td>0</td>\n",
       "      <td>1769.482788</td>\n",
       "    </tr>\n",
       "  </tbody>\n",
       "</table>\n",
       "<p>1528 rows × 4 columns</p>\n",
       "</div>"
      ],
      "text/plain": [
       "         Network1   Network2  Discriminator       Result\n",
       "0       21.357697  22.235937              0    21.357697\n",
       "1       21.090815  22.236078              0    21.090815\n",
       "2       20.947533  22.236086              0    20.947533\n",
       "3       20.883209  22.236120              0    20.883209\n",
       "4       20.868616  22.236237              0    20.868616\n",
       "...           ...        ...            ...          ...\n",
       "1523  1514.694458  22.274364              0  1514.694458\n",
       "1524   462.572327  22.264450              0   462.572327\n",
       "1525    24.152754  22.272684              0    24.152754\n",
       "1526  1280.064819  22.276203              0  1280.064819\n",
       "1527  1769.482788  22.265377              0  1769.482788\n",
       "\n",
       "[1528 rows x 4 columns]"
      ]
     },
     "execution_count": 56,
     "metadata": {},
     "output_type": "execute_result"
    }
   ],
   "source": [
    "result_df"
   ]
  },
  {
   "cell_type": "code",
   "execution_count": 57,
   "metadata": {
    "colab": {
     "base_uri": "https://localhost:8080/"
    },
    "id": "-PB2CkLZ2sVE",
    "outputId": "ec38343a-7079-4036-fd3d-961bd8be1fbb"
   },
   "outputs": [
    {
     "data": {
      "text/plain": [
       "(1528,)"
      ]
     },
     "execution_count": 57,
     "metadata": {},
     "output_type": "execute_result"
    }
   ],
   "source": [
    "Y_Test1.shape"
   ]
  },
  {
   "cell_type": "code",
   "execution_count": 58,
   "metadata": {
    "colab": {
     "base_uri": "https://localhost:8080/"
    },
    "id": "NyCepmio2sVE",
    "outputId": "8d258513-2c23-4e4a-c2cb-a0fa3b105428"
   },
   "outputs": [
    {
     "data": {
      "text/plain": [
       "(1528,)"
      ]
     },
     "execution_count": 58,
     "metadata": {},
     "output_type": "execute_result"
    }
   ],
   "source": [
    "Y_test_actual1.shape"
   ]
  },
  {
   "cell_type": "code",
   "execution_count": 59,
   "metadata": {
    "colab": {
     "base_uri": "https://localhost:8080/"
    },
    "id": "c_yCeZCy2sVE",
    "outputId": "7af151e8-f8b5-4802-a9de-eca648ba4d29"
   },
   "outputs": [
    {
     "data": {
      "text/plain": [
       "1770162.431544548"
      ]
     },
     "execution_count": 59,
     "metadata": {},
     "output_type": "execute_result"
    }
   ],
   "source": [
    "mean_squared_error(result_df['Result'], Y_test_actual1)"
   ]
  },
  {
   "cell_type": "code",
   "execution_count": 60,
   "metadata": {
    "colab": {
     "base_uri": "https://localhost:8080/",
     "height": 606
    },
    "id": "vaMfxoVl2sVF",
    "outputId": "b8459d36-eb06-4617-87ef-0fed6d05dea4"
   },
   "outputs": [
    {
     "data": {
      "image/png": "[encoded data removed]",
      "text/plain": [
       "<Figure size 1080x720 with 1 Axes>"
      ]
     },
     "metadata": {
      "needs_background": "light"
     },
     "output_type": "display_data"
    }
   ],
   "source": [
    "#plot predicted value vs actual values from last iteration\n",
    "plt.figure(figsize=(15, 10))\n",
    "plt.plot(result_df['Result'], 'ro', alpha=0.8)\n",
    "plt.plot(Y_test_actual1, 'bo', alpha=0.1)\n",
    "plt.legend(['Predicted values', 'Actual values'], loc='upper right')\n",
    "plt.ylabel('Outflow')\n",
    "plt.xlabel('nth datapoint')\n",
    "plt.savefig('predicted_values_visuals.png', bbox_inches='tight')\n",
    "plt.show()"
   ]
  },
  {
   "cell_type": "code",
   "execution_count": null,
   "metadata": {
    "id": "lsBQR0n22sVF"
   },
   "outputs": [],
   "source": []
  }
 ],
 "metadata": {
  "accelerator": "GPU",
  "colab": {
   "name": "three_network-extreme-nonextreme_daily_prediction.ipynb",
   "provenance": []
  },
  "kernelspec": {
   "display_name": "Python 3",
   "language": "python",
   "name": "python3"
  },
  "language_info": {
   "codemirror_mode": {
    "name": "ipython",
    "version": 3
   },
   "file_extension": ".py",
   "mimetype": "text/x-python",
   "name": "python",
   "nbconvert_exporter": "python",
   "pygments_lexer": "ipython3",
   "version": "3.7.10"
  },
  "widgets": {
   "application/vnd.jupyter.widget-state+json": {
    "0312e823fa0e4c58971215d9e2b19088": {
     "model_module": "@jupyter-widgets/controls",
     "model_name": "FloatProgressModel",
     "state": {
      "_dom_classes": [],
      "_model_module": "@jupyter-widgets/controls",
      "_model_module_version": "1.5.0",
      "_model_name": "FloatProgressModel",
      "_view_count": null,
      "_view_module": "@jupyter-widgets/controls",
      "_view_module_version": "1.5.0",
      "_view_name": "ProgressView",
      "bar_style": "success",
      "description": "100%",
      "description_tooltip": null,
      "layout": "IPY_MODEL_b4506ee0de6e45358bf30457e4459518",
      "max": 6166,
      "min": 0,
      "orientation": "horizontal",
      "style": "IPY_MODEL_43991f0a37c24b7c911a3cf6eff9e68c",
      "value": 6166
     }
    },
    "05a5766edc63499197700c1966dded76": {
     "model_module": "@jupyter-widgets/controls",
     "model_name": "ProgressStyleModel",
     "state": {
      "_model_module": "@jupyter-widgets/controls",
      "_model_module_version": "1.5.0",
      "_model_name": "ProgressStyleModel",
      "_view_count": null,
      "_view_module": "@jupyter-widgets/base",
      "_view_module_version": "1.2.0",
      "_view_name": "StyleView",
      "bar_color": null,
      "description_width": "initial"
     }
    },
    "0803cc91e464451cbf3f9b5e665078a5": {
     "model_module": "@jupyter-widgets/controls",
     "model_name": "HTMLModel",
     "state": {
      "_dom_classes": [],
      "_model_module": "@jupyter-widgets/controls",
      "_model_module_version": "1.5.0",
      "_model_name": "HTMLModel",
      "_view_count": null,
      "_view_module": "@jupyter-widgets/controls",
      "_view_module_version": "1.5.0",
      "_view_name": "HTMLView",
      "description": "",
      "description_tooltip": null,
      "layout": "IPY_MODEL_271a8a8294294459bafc20a9dd5ec9a2",
      "placeholder": "​",
      "style": "IPY_MODEL_091e6426efdd45a8a5189b0d2fe6a442",
      "value": " 1528/1528 [00:03&lt;00:00, 477.40it/s]"
     }
    },
    "091e6426efdd45a8a5189b0d2fe6a442": {
     "model_module": "@jupyter-widgets/controls",
     "model_name": "DescriptionStyleModel",
     "state": {
      "_model_module": "@jupyter-widgets/controls",
      "_model_module_version": "1.5.0",
      "_model_name": "DescriptionStyleModel",
      "_view_count": null,
      "_view_module": "@jupyter-widgets/base",
      "_view_module_version": "1.2.0",
      "_view_name": "StyleView",
      "description_width": ""
     }
    },
    "0a8f46fcca40434e89510e1813e27036": {
     "model_module": "@jupyter-widgets/controls",
     "model_name": "HTMLModel",
     "state": {
      "_dom_classes": [],
      "_model_module": "@jupyter-widgets/controls",
      "_model_module_version": "1.5.0",
      "_model_name": "HTMLModel",
      "_view_count": null,
      "_view_module": "@jupyter-widgets/controls",
      "_view_module_version": "1.5.0",
      "_view_name": "HTMLView",
      "description": "",
      "description_tooltip": null,
      "layout": "IPY_MODEL_ae9a3c06dae64195abe0cfe56ffe8969",
      "placeholder": "​",
      "style": "IPY_MODEL_4159e076b3f9412aa6ac26ee0385c8dd",
      "value": " 1504/1504 [00:09&lt;00:00, 164.19it/s]"
     }
    },
    "0be99258bca34929a4324d48b3f219dd": {
     "model_module": "@jupyter-widgets/base",
     "model_name": "LayoutModel",
     "state": {
      "_model_module": "@jupyter-widgets/base",
      "_model_module_version": "1.2.0",
      "_model_name": "LayoutModel",
      "_view_count": null,
      "_view_module": "@jupyter-widgets/base",
      "_view_module_version": "1.2.0",
      "_view_name": "LayoutView",
      "align_content": null,
      "align_items": null,
      "align_self": null,
      "border": null,
      "bottom": null,
      "display": null,
      "flex": null,
      "flex_flow": null,
      "grid_area": null,
      "grid_auto_columns": null,
      "grid_auto_flow": null,
      "grid_auto_rows": null,
      "grid_column": null,
      "grid_gap": null,
      "grid_row": null,
      "grid_template_areas": null,
      "grid_template_columns": null,
      "grid_template_rows": null,
      "height": null,
      "justify_content": null,
      "justify_items": null,
      "left": null,
      "margin": null,
      "max_height": null,
      "max_width": null,
      "min_height": null,
      "min_width": null,
      "object_fit": null,
      "object_position": null,
      "order": null,
      "overflow": null,
      "overflow_x": null,
      "overflow_y": null,
      "padding": null,
      "right": null,
      "top": null,
      "visibility": null,
      "width": null
     }
    },
    "0e3ccdbf1f864269a907d233aed9d60e": {
     "model_module": "@jupyter-widgets/base",
     "model_name": "LayoutModel",
     "state": {
      "_model_module": "@jupyter-widgets/base",
      "_model_module_version": "1.2.0",
      "_model_name": "LayoutModel",
      "_view_count": null,
      "_view_module": "@jupyter-widgets/base",
      "_view_module_version": "1.2.0",
      "_view_name": "LayoutView",
      "align_content": null,
      "align_items": null,
      "align_self": null,
      "border": null,
      "bottom": null,
      "display": null,
      "flex": null,
      "flex_flow": null,
      "grid_area": null,
      "grid_auto_columns": null,
      "grid_auto_flow": null,
      "grid_auto_rows": null,
      "grid_column": null,
      "grid_gap": null,
      "grid_row": null,
      "grid_template_areas": null,
      "grid_template_columns": null,
      "grid_template_rows": null,
      "height": null,
      "justify_content": null,
      "justify_items": null,
      "left": null,
      "margin": null,
      "max_height": null,
      "max_width": null,
      "min_height": null,
      "min_width": null,
      "object_fit": null,
      "object_position": null,
      "order": null,
      "overflow": null,
      "overflow_x": null,
      "overflow_y": null,
      "padding": null,
      "right": null,
      "top": null,
      "visibility": null,
      "width": null
     }
    },
    "0f48f595b742489283903d0c50290ea9": {
     "model_module": "@jupyter-widgets/controls",
     "model_name": "FloatProgressModel",
     "state": {
      "_dom_classes": [],
      "_model_module": "@jupyter-widgets/controls",
      "_model_module_version": "1.5.0",
      "_model_name": "FloatProgressModel",
      "_view_count": null,
      "_view_module": "@jupyter-widgets/controls",
      "_view_module_version": "1.5.0",
      "_view_name": "ProgressView",
      "bar_style": "success",
      "description": "100%",
      "description_tooltip": null,
      "layout": "IPY_MODEL_1dcd5bdc7a3d46a493d86a819027b1b8",
      "max": 6166,
      "min": 0,
      "orientation": "horizontal",
      "style": "IPY_MODEL_7077cc540c0f46e8be0525d5faa1a45b",
      "value": 6166
     }
    },
    "0f6e3a67cf2e4b3e8430f0f26b55a3a6": {
     "model_module": "@jupyter-widgets/controls",
     "model_name": "HBoxModel",
     "state": {
      "_dom_classes": [],
      "_model_module": "@jupyter-widgets/controls",
      "_model_module_version": "1.5.0",
      "_model_name": "HBoxModel",
      "_view_count": null,
      "_view_module": "@jupyter-widgets/controls",
      "_view_module_version": "1.5.0",
      "_view_name": "HBoxView",
      "box_style": "",
      "children": [
       "IPY_MODEL_0f48f595b742489283903d0c50290ea9",
       "IPY_MODEL_ac71aff4a26940e8bb33bf1564494d89"
      ],
      "layout": "IPY_MODEL_586e68b6f5644b11a177f82c9f19d511"
     }
    },
    "11a32bddb36848eda4aed4350df0b801": {
     "model_module": "@jupyter-widgets/controls",
     "model_name": "HTMLModel",
     "state": {
      "_dom_classes": [],
      "_model_module": "@jupyter-widgets/controls",
      "_model_module_version": "1.5.0",
      "_model_name": "HTMLModel",
      "_view_count": null,
      "_view_module": "@jupyter-widgets/controls",
      "_view_module_version": "1.5.0",
      "_view_name": "HTMLView",
      "description": "",
      "description_tooltip": null,
      "layout": "IPY_MODEL_ca0cba9ce6bf411c8353fb47b58cde28",
      "placeholder": "​",
      "style": "IPY_MODEL_e1d03f93124942848614ff6caff273cd",
      "value": " 1528/1528 [00:05&lt;00:00, 264.63it/s]"
     }
    },
    "143c2deec2e546c1af16f750bef5502e": {
     "model_module": "@jupyter-widgets/base",
     "model_name": "LayoutModel",
     "state": {
      "_model_module": "@jupyter-widgets/base",
      "_model_module_version": "1.2.0",
      "_model_name": "LayoutModel",
      "_view_count": null,
      "_view_module": "@jupyter-widgets/base",
      "_view_module_version": "1.2.0",
      "_view_name": "LayoutView",
      "align_content": null,
      "align_items": null,
      "align_self": null,
      "border": null,
      "bottom": null,
      "display": null,
      "flex": null,
      "flex_flow": null,
      "grid_area": null,
      "grid_auto_columns": null,
      "grid_auto_flow": null,
      "grid_auto_rows": null,
      "grid_column": null,
      "grid_gap": null,
      "grid_row": null,
      "grid_template_areas": null,
      "grid_template_columns": null,
      "grid_template_rows": null,
      "height": null,
      "justify_content": null,
      "justify_items": null,
      "left": null,
      "margin": null,
      "max_height": null,
      "max_width": null,
      "min_height": null,
      "min_width": null,
      "object_fit": null,
      "object_position": null,
      "order": null,
      "overflow": null,
      "overflow_x": null,
      "overflow_y": null,
      "padding": null,
      "right": null,
      "top": null,
      "visibility": null,
      "width": null
     }
    },
    "1a63268ad78340439c26197038e59664": {
     "model_module": "@jupyter-widgets/controls",
     "model_name": "ProgressStyleModel",
     "state": {
      "_model_module": "@jupyter-widgets/controls",
      "_model_module_version": "1.5.0",
      "_model_name": "ProgressStyleModel",
      "_view_count": null,
      "_view_module": "@jupyter-widgets/base",
      "_view_module_version": "1.2.0",
      "_view_name": "StyleView",
      "bar_color": null,
      "description_width": "initial"
     }
    },
    "1dcd5bdc7a3d46a493d86a819027b1b8": {
     "model_module": "@jupyter-widgets/base",
     "model_name": "LayoutModel",
     "state": {
      "_model_module": "@jupyter-widgets/base",
      "_model_module_version": "1.2.0",
      "_model_name": "LayoutModel",
      "_view_count": null,
      "_view_module": "@jupyter-widgets/base",
      "_view_module_version": "1.2.0",
      "_view_name": "LayoutView",
      "align_content": null,
      "align_items": null,
      "align_self": null,
      "border": null,
      "bottom": null,
      "display": null,
      "flex": null,
      "flex_flow": null,
      "grid_area": null,
      "grid_auto_columns": null,
      "grid_auto_flow": null,
      "grid_auto_rows": null,
      "grid_column": null,
      "grid_gap": null,
      "grid_row": null,
      "grid_template_areas": null,
      "grid_template_columns": null,
      "grid_template_rows": null,
      "height": null,
      "justify_content": null,
      "justify_items": null,
      "left": null,
      "margin": null,
      "max_height": null,
      "max_width": null,
      "min_height": null,
      "min_width": null,
      "object_fit": null,
      "object_position": null,
      "order": null,
      "overflow": null,
      "overflow_x": null,
      "overflow_y": null,
      "padding": null,
      "right": null,
      "top": null,
      "visibility": null,
      "width": null
     }
    },
    "271a8a8294294459bafc20a9dd5ec9a2": {
     "model_module": "@jupyter-widgets/base",
     "model_name": "LayoutModel",
     "state": {
      "_model_module": "@jupyter-widgets/base",
      "_model_module_version": "1.2.0",
      "_model_name": "LayoutModel",
      "_view_count": null,
      "_view_module": "@jupyter-widgets/base",
      "_view_module_version": "1.2.0",
      "_view_name": "LayoutView",
      "align_content": null,
      "align_items": null,
      "align_self": null,
      "border": null,
      "bottom": null,
      "display": null,
      "flex": null,
      "flex_flow": null,
      "grid_area": null,
      "grid_auto_columns": null,
      "grid_auto_flow": null,
      "grid_auto_rows": null,
      "grid_column": null,
      "grid_gap": null,
      "grid_row": null,
      "grid_template_areas": null,
      "grid_template_columns": null,
      "grid_template_rows": null,
      "height": null,
      "justify_content": null,
      "justify_items": null,
      "left": null,
      "margin": null,
      "max_height": null,
      "max_width": null,
      "min_height": null,
      "min_width": null,
      "object_fit": null,
      "object_position": null,
      "order": null,
      "overflow": null,
      "overflow_x": null,
      "overflow_y": null,
      "padding": null,
      "right": null,
      "top": null,
      "visibility": null,
      "width": null
     }
    },
    "3511558834f047b2a8ad92513c6b5a37": {
     "model_module": "@jupyter-widgets/controls",
     "model_name": "DescriptionStyleModel",
     "state": {
      "_model_module": "@jupyter-widgets/controls",
      "_model_module_version": "1.5.0",
      "_model_name": "DescriptionStyleModel",
      "_view_count": null,
      "_view_module": "@jupyter-widgets/base",
      "_view_module_version": "1.2.0",
      "_view_name": "StyleView",
      "description_width": ""
     }
    },
    "4159e076b3f9412aa6ac26ee0385c8dd": {
     "model_module": "@jupyter-widgets/controls",
     "model_name": "DescriptionStyleModel",
     "state": {
      "_model_module": "@jupyter-widgets/controls",
      "_model_module_version": "1.5.0",
      "_model_name": "DescriptionStyleModel",
      "_view_count": null,
      "_view_module": "@jupyter-widgets/base",
      "_view_module_version": "1.2.0",
      "_view_name": "StyleView",
      "description_width": ""
     }
    },
    "4365092ba634490e91989a5e1d9979e1": {
     "model_module": "@jupyter-widgets/base",
     "model_name": "LayoutModel",
     "state": {
      "_model_module": "@jupyter-widgets/base",
      "_model_module_version": "1.2.0",
      "_model_name": "LayoutModel",
      "_view_count": null,
      "_view_module": "@jupyter-widgets/base",
      "_view_module_version": "1.2.0",
      "_view_name": "LayoutView",
      "align_content": null,
      "align_items": null,
      "align_self": null,
      "border": null,
      "bottom": null,
      "display": null,
      "flex": null,
      "flex_flow": null,
      "grid_area": null,
      "grid_auto_columns": null,
      "grid_auto_flow": null,
      "grid_auto_rows": null,
      "grid_column": null,
      "grid_gap": null,
      "grid_row": null,
      "grid_template_areas": null,
      "grid_template_columns": null,
      "grid_template_rows": null,
      "height": null,
      "justify_content": null,
      "justify_items": null,
      "left": null,
      "margin": null,
      "max_height": null,
      "max_width": null,
      "min_height": null,
      "min_width": null,
      "object_fit": null,
      "object_position": null,
      "order": null,
      "overflow": null,
      "overflow_x": null,
      "overflow_y": null,
      "padding": null,
      "right": null,
      "top": null,
      "visibility": null,
      "width": null
     }
    },
    "43991f0a37c24b7c911a3cf6eff9e68c": {
     "model_module": "@jupyter-widgets/controls",
     "model_name": "ProgressStyleModel",
     "state": {
      "_model_module": "@jupyter-widgets/controls",
      "_model_module_version": "1.5.0",
      "_model_name": "ProgressStyleModel",
      "_view_count": null,
      "_view_module": "@jupyter-widgets/base",
      "_view_module_version": "1.2.0",
      "_view_name": "StyleView",
      "bar_color": null,
      "description_width": "initial"
     }
    },
    "49859c00352a47f1a6657a7e842b90df": {
     "model_module": "@jupyter-widgets/controls",
     "model_name": "FloatProgressModel",
     "state": {
      "_dom_classes": [],
      "_model_module": "@jupyter-widgets/controls",
      "_model_module_version": "1.5.0",
      "_model_name": "FloatProgressModel",
      "_view_count": null,
      "_view_module": "@jupyter-widgets/controls",
      "_view_module_version": "1.5.0",
      "_view_name": "ProgressView",
      "bar_style": "success",
      "description": "100%",
      "description_tooltip": null,
      "layout": "IPY_MODEL_6a2c2557e43047038ec77612cffda68c",
      "max": 1528,
      "min": 0,
      "orientation": "horizontal",
      "style": "IPY_MODEL_6a30050b2bc349b7b6d8f233fd5f701a",
      "value": 1528
     }
    },
    "586e68b6f5644b11a177f82c9f19d511": {
     "model_module": "@jupyter-widgets/base",
     "model_name": "LayoutModel",
     "state": {
      "_model_module": "@jupyter-widgets/base",
      "_model_module_version": "1.2.0",
      "_model_name": "LayoutModel",
      "_view_count": null,
      "_view_module": "@jupyter-widgets/base",
      "_view_module_version": "1.2.0",
      "_view_name": "LayoutView",
      "align_content": null,
      "align_items": null,
      "align_self": null,
      "border": null,
      "bottom": null,
      "display": null,
      "flex": null,
      "flex_flow": null,
      "grid_area": null,
      "grid_auto_columns": null,
      "grid_auto_flow": null,
      "grid_auto_rows": null,
      "grid_column": null,
      "grid_gap": null,
      "grid_row": null,
      "grid_template_areas": null,
      "grid_template_columns": null,
      "grid_template_rows": null,
      "height": null,
      "justify_content": null,
      "justify_items": null,
      "left": null,
      "margin": null,
      "max_height": null,
      "max_width": null,
      "min_height": null,
      "min_width": null,
      "object_fit": null,
      "object_position": null,
      "order": null,
      "overflow": null,
      "overflow_x": null,
      "overflow_y": null,
      "padding": null,
      "right": null,
      "top": null,
      "visibility": null,
      "width": null
     }
    },
    "5c7d4f9550f9475ba03239844be7dcc6": {
     "model_module": "@jupyter-widgets/controls",
     "model_name": "HTMLModel",
     "state": {
      "_dom_classes": [],
      "_model_module": "@jupyter-widgets/controls",
      "_model_module_version": "1.5.0",
      "_model_name": "HTMLModel",
      "_view_count": null,
      "_view_module": "@jupyter-widgets/controls",
      "_view_module_version": "1.5.0",
      "_view_name": "HTMLView",
      "description": "",
      "description_tooltip": null,
      "layout": "IPY_MODEL_ef10ad9d8e344ec9b33811ef873f2bcd",
      "placeholder": "​",
      "style": "IPY_MODEL_ec7cfb3afd2a4e5393cc419b8fb872ba",
      "value": " 6166/6166 [00:00&lt;00:00, 65222.14it/s]"
     }
    },
    "69608941ce574c09bf32b4665f467c27": {
     "model_module": "@jupyter-widgets/base",
     "model_name": "LayoutModel",
     "state": {
      "_model_module": "@jupyter-widgets/base",
      "_model_module_version": "1.2.0",
      "_model_name": "LayoutModel",
      "_view_count": null,
      "_view_module": "@jupyter-widgets/base",
      "_view_module_version": "1.2.0",
      "_view_name": "LayoutView",
      "align_content": null,
      "align_items": null,
      "align_self": null,
      "border": null,
      "bottom": null,
      "display": null,
      "flex": null,
      "flex_flow": null,
      "grid_area": null,
      "grid_auto_columns": null,
      "grid_auto_flow": null,
      "grid_auto_rows": null,
      "grid_column": null,
      "grid_gap": null,
      "grid_row": null,
      "grid_template_areas": null,
      "grid_template_columns": null,
      "grid_template_rows": null,
      "height": null,
      "justify_content": null,
      "justify_items": null,
      "left": null,
      "margin": null,
      "max_height": null,
      "max_width": null,
      "min_height": null,
      "min_width": null,
      "object_fit": null,
      "object_position": null,
      "order": null,
      "overflow": null,
      "overflow_x": null,
      "overflow_y": null,
      "padding": null,
      "right": null,
      "top": null,
      "visibility": null,
      "width": null
     }
    },
    "6a2c2557e43047038ec77612cffda68c": {
     "model_module": "@jupyter-widgets/base",
     "model_name": "LayoutModel",
     "state": {
      "_model_module": "@jupyter-widgets/base",
      "_model_module_version": "1.2.0",
      "_model_name": "LayoutModel",
      "_view_count": null,
      "_view_module": "@jupyter-widgets/base",
      "_view_module_version": "1.2.0",
      "_view_name": "LayoutView",
      "align_content": null,
      "align_items": null,
      "align_self": null,
      "border": null,
      "bottom": null,
      "display": null,
      "flex": null,
      "flex_flow": null,
      "grid_area": null,
      "grid_auto_columns": null,
      "grid_auto_flow": null,
      "grid_auto_rows": null,
      "grid_column": null,
      "grid_gap": null,
      "grid_row": null,
      "grid_template_areas": null,
      "grid_template_columns": null,
      "grid_template_rows": null,
      "height": null,
      "justify_content": null,
      "justify_items": null,
      "left": null,
      "margin": null,
      "max_height": null,
      "max_width": null,
      "min_height": null,
      "min_width": null,
      "object_fit": null,
      "object_position": null,
      "order": null,
      "overflow": null,
      "overflow_x": null,
      "overflow_y": null,
      "padding": null,
      "right": null,
      "top": null,
      "visibility": null,
      "width": null
     }
    },
    "6a30050b2bc349b7b6d8f233fd5f701a": {
     "model_module": "@jupyter-widgets/controls",
     "model_name": "ProgressStyleModel",
     "state": {
      "_model_module": "@jupyter-widgets/controls",
      "_model_module_version": "1.5.0",
      "_model_name": "ProgressStyleModel",
      "_view_count": null,
      "_view_module": "@jupyter-widgets/base",
      "_view_module_version": "1.2.0",
      "_view_name": "StyleView",
      "bar_color": null,
      "description_width": "initial"
     }
    },
    "7077cc540c0f46e8be0525d5faa1a45b": {
     "model_module": "@jupyter-widgets/controls",
     "model_name": "ProgressStyleModel",
     "state": {
      "_model_module": "@jupyter-widgets/controls",
      "_model_module_version": "1.5.0",
      "_model_name": "ProgressStyleModel",
      "_view_count": null,
      "_view_module": "@jupyter-widgets/base",
      "_view_module_version": "1.2.0",
      "_view_name": "StyleView",
      "bar_color": null,
      "description_width": "initial"
     }
    },
    "89cce5fa129b457bbc52e3a5d96704bc": {
     "model_module": "@jupyter-widgets/controls",
     "model_name": "FloatProgressModel",
     "state": {
      "_dom_classes": [],
      "_model_module": "@jupyter-widgets/controls",
      "_model_module_version": "1.5.0",
      "_model_name": "FloatProgressModel",
      "_view_count": null,
      "_view_module": "@jupyter-widgets/controls",
      "_view_module_version": "1.5.0",
      "_view_name": "ProgressView",
      "bar_style": "success",
      "description": "100%",
      "description_tooltip": null,
      "layout": "IPY_MODEL_f5d071467b334101b69d329b40ed337f",
      "max": 6069,
      "min": 0,
      "orientation": "horizontal",
      "style": "IPY_MODEL_1a63268ad78340439c26197038e59664",
      "value": 6069
     }
    },
    "957177d02044408b9d152aca62275353": {
     "model_module": "@jupyter-widgets/base",
     "model_name": "LayoutModel",
     "state": {
      "_model_module": "@jupyter-widgets/base",
      "_model_module_version": "1.2.0",
      "_model_name": "LayoutModel",
      "_view_count": null,
      "_view_module": "@jupyter-widgets/base",
      "_view_module_version": "1.2.0",
      "_view_name": "LayoutView",
      "align_content": null,
      "align_items": null,
      "align_self": null,
      "border": null,
      "bottom": null,
      "display": null,
      "flex": null,
      "flex_flow": null,
      "grid_area": null,
      "grid_auto_columns": null,
      "grid_auto_flow": null,
      "grid_auto_rows": null,
      "grid_column": null,
      "grid_gap": null,
      "grid_row": null,
      "grid_template_areas": null,
      "grid_template_columns": null,
      "grid_template_rows": null,
      "height": null,
      "justify_content": null,
      "justify_items": null,
      "left": null,
      "margin": null,
      "max_height": null,
      "max_width": null,
      "min_height": null,
      "min_width": null,
      "object_fit": null,
      "object_position": null,
      "order": null,
      "overflow": null,
      "overflow_x": null,
      "overflow_y": null,
      "padding": null,
      "right": null,
      "top": null,
      "visibility": null,
      "width": null
     }
    },
    "97965ff7dec245c58687ffb3e8f404e2": {
     "model_module": "@jupyter-widgets/controls",
     "model_name": "HBoxModel",
     "state": {
      "_dom_classes": [],
      "_model_module": "@jupyter-widgets/controls",
      "_model_module_version": "1.5.0",
      "_model_name": "HBoxModel",
      "_view_count": null,
      "_view_module": "@jupyter-widgets/controls",
      "_view_module_version": "1.5.0",
      "_view_name": "HBoxView",
      "box_style": "",
      "children": [
       "IPY_MODEL_0312e823fa0e4c58971215d9e2b19088",
       "IPY_MODEL_5c7d4f9550f9475ba03239844be7dcc6"
      ],
      "layout": "IPY_MODEL_69608941ce574c09bf32b4665f467c27"
     }
    },
    "983fa2bace72450bb6233cf44e99d5e5": {
     "model_module": "@jupyter-widgets/controls",
     "model_name": "FloatProgressModel",
     "state": {
      "_dom_classes": [],
      "_model_module": "@jupyter-widgets/controls",
      "_model_module_version": "1.5.0",
      "_model_name": "FloatProgressModel",
      "_view_count": null,
      "_view_module": "@jupyter-widgets/controls",
      "_view_module_version": "1.5.0",
      "_view_name": "ProgressView",
      "bar_style": "success",
      "description": "100%",
      "description_tooltip": null,
      "layout": "IPY_MODEL_0e3ccdbf1f864269a907d233aed9d60e",
      "max": 1504,
      "min": 0,
      "orientation": "horizontal",
      "style": "IPY_MODEL_e89c816b147849618fe66c85d2db321f",
      "value": 1504
     }
    },
    "9d1deb15db504857acea8d25c9eb3a2f": {
     "model_module": "@jupyter-widgets/base",
     "model_name": "LayoutModel",
     "state": {
      "_model_module": "@jupyter-widgets/base",
      "_model_module_version": "1.2.0",
      "_model_name": "LayoutModel",
      "_view_count": null,
      "_view_module": "@jupyter-widgets/base",
      "_view_module_version": "1.2.0",
      "_view_name": "LayoutView",
      "align_content": null,
      "align_items": null,
      "align_self": null,
      "border": null,
      "bottom": null,
      "display": null,
      "flex": null,
      "flex_flow": null,
      "grid_area": null,
      "grid_auto_columns": null,
      "grid_auto_flow": null,
      "grid_auto_rows": null,
      "grid_column": null,
      "grid_gap": null,
      "grid_row": null,
      "grid_template_areas": null,
      "grid_template_columns": null,
      "grid_template_rows": null,
      "height": null,
      "justify_content": null,
      "justify_items": null,
      "left": null,
      "margin": null,
      "max_height": null,
      "max_width": null,
      "min_height": null,
      "min_width": null,
      "object_fit": null,
      "object_position": null,
      "order": null,
      "overflow": null,
      "overflow_x": null,
      "overflow_y": null,
      "padding": null,
      "right": null,
      "top": null,
      "visibility": null,
      "width": null
     }
    },
    "a8639c5afd674416a2413576864b586c": {
     "model_module": "@jupyter-widgets/controls",
     "model_name": "HBoxModel",
     "state": {
      "_dom_classes": [],
      "_model_module": "@jupyter-widgets/controls",
      "_model_module_version": "1.5.0",
      "_model_name": "HBoxModel",
      "_view_count": null,
      "_view_module": "@jupyter-widgets/controls",
      "_view_module_version": "1.5.0",
      "_view_name": "HBoxView",
      "box_style": "",
      "children": [
       "IPY_MODEL_49859c00352a47f1a6657a7e842b90df",
       "IPY_MODEL_11a32bddb36848eda4aed4350df0b801"
      ],
      "layout": "IPY_MODEL_9d1deb15db504857acea8d25c9eb3a2f"
     }
    },
    "ac71aff4a26940e8bb33bf1564494d89": {
     "model_module": "@jupyter-widgets/controls",
     "model_name": "HTMLModel",
     "state": {
      "_dom_classes": [],
      "_model_module": "@jupyter-widgets/controls",
      "_model_module_version": "1.5.0",
      "_model_name": "HTMLModel",
      "_view_count": null,
      "_view_module": "@jupyter-widgets/controls",
      "_view_module_version": "1.5.0",
      "_view_name": "HTMLView",
      "description": "",
      "description_tooltip": null,
      "layout": "IPY_MODEL_143c2deec2e546c1af16f750bef5502e",
      "placeholder": "​",
      "style": "IPY_MODEL_3511558834f047b2a8ad92513c6b5a37",
      "value": " 6166/6166 [00:03&lt;00:00, 1876.18it/s]"
     }
    },
    "ae9a3c06dae64195abe0cfe56ffe8969": {
     "model_module": "@jupyter-widgets/base",
     "model_name": "LayoutModel",
     "state": {
      "_model_module": "@jupyter-widgets/base",
      "_model_module_version": "1.2.0",
      "_model_name": "LayoutModel",
      "_view_count": null,
      "_view_module": "@jupyter-widgets/base",
      "_view_module_version": "1.2.0",
      "_view_name": "LayoutView",
      "align_content": null,
      "align_items": null,
      "align_self": null,
      "border": null,
      "bottom": null,
      "display": null,
      "flex": null,
      "flex_flow": null,
      "grid_area": null,
      "grid_auto_columns": null,
      "grid_auto_flow": null,
      "grid_auto_rows": null,
      "grid_column": null,
      "grid_gap": null,
      "grid_row": null,
      "grid_template_areas": null,
      "grid_template_columns": null,
      "grid_template_rows": null,
      "height": null,
      "justify_content": null,
      "justify_items": null,
      "left": null,
      "margin": null,
      "max_height": null,
      "max_width": null,
      "min_height": null,
      "min_width": null,
      "object_fit": null,
      "object_position": null,
      "order": null,
      "overflow": null,
      "overflow_x": null,
      "overflow_y": null,
      "padding": null,
      "right": null,
      "top": null,
      "visibility": null,
      "width": null
     }
    },
    "b06b4781763b401f80634f5be7dbef57": {
     "model_module": "@jupyter-widgets/controls",
     "model_name": "HBoxModel",
     "state": {
      "_dom_classes": [],
      "_model_module": "@jupyter-widgets/controls",
      "_model_module_version": "1.5.0",
      "_model_name": "HBoxModel",
      "_view_count": null,
      "_view_module": "@jupyter-widgets/controls",
      "_view_module_version": "1.5.0",
      "_view_name": "HBoxView",
      "box_style": "",
      "children": [
       "IPY_MODEL_e00e527b2ddf42e9a2c3b7a7e9f2177c",
       "IPY_MODEL_0803cc91e464451cbf3f9b5e665078a5"
      ],
      "layout": "IPY_MODEL_0be99258bca34929a4324d48b3f219dd"
     }
    },
    "b4506ee0de6e45358bf30457e4459518": {
     "model_module": "@jupyter-widgets/base",
     "model_name": "LayoutModel",
     "state": {
      "_model_module": "@jupyter-widgets/base",
      "_model_module_version": "1.2.0",
      "_model_name": "LayoutModel",
      "_view_count": null,
      "_view_module": "@jupyter-widgets/base",
      "_view_module_version": "1.2.0",
      "_view_name": "LayoutView",
      "align_content": null,
      "align_items": null,
      "align_self": null,
      "border": null,
      "bottom": null,
      "display": null,
      "flex": null,
      "flex_flow": null,
      "grid_area": null,
      "grid_auto_columns": null,
      "grid_auto_flow": null,
      "grid_auto_rows": null,
      "grid_column": null,
      "grid_gap": null,
      "grid_row": null,
      "grid_template_areas": null,
      "grid_template_columns": null,
      "grid_template_rows": null,
      "height": null,
      "justify_content": null,
      "justify_items": null,
      "left": null,
      "margin": null,
      "max_height": null,
      "max_width": null,
      "min_height": null,
      "min_width": null,
      "object_fit": null,
      "object_position": null,
      "order": null,
      "overflow": null,
      "overflow_x": null,
      "overflow_y": null,
      "padding": null,
      "right": null,
      "top": null,
      "visibility": null,
      "width": null
     }
    },
    "c5bd1aa4069445f6b3b88ea5f5e7e1a3": {
     "model_module": "@jupyter-widgets/controls",
     "model_name": "DescriptionStyleModel",
     "state": {
      "_model_module": "@jupyter-widgets/controls",
      "_model_module_version": "1.5.0",
      "_model_name": "DescriptionStyleModel",
      "_view_count": null,
      "_view_module": "@jupyter-widgets/base",
      "_view_module_version": "1.2.0",
      "_view_name": "StyleView",
      "description_width": ""
     }
    },
    "ca0cba9ce6bf411c8353fb47b58cde28": {
     "model_module": "@jupyter-widgets/base",
     "model_name": "LayoutModel",
     "state": {
      "_model_module": "@jupyter-widgets/base",
      "_model_module_version": "1.2.0",
      "_model_name": "LayoutModel",
      "_view_count": null,
      "_view_module": "@jupyter-widgets/base",
      "_view_module_version": "1.2.0",
      "_view_name": "LayoutView",
      "align_content": null,
      "align_items": null,
      "align_self": null,
      "border": null,
      "bottom": null,
      "display": null,
      "flex": null,
      "flex_flow": null,
      "grid_area": null,
      "grid_auto_columns": null,
      "grid_auto_flow": null,
      "grid_auto_rows": null,
      "grid_column": null,
      "grid_gap": null,
      "grid_row": null,
      "grid_template_areas": null,
      "grid_template_columns": null,
      "grid_template_rows": null,
      "height": null,
      "justify_content": null,
      "justify_items": null,
      "left": null,
      "margin": null,
      "max_height": null,
      "max_width": null,
      "min_height": null,
      "min_width": null,
      "object_fit": null,
      "object_position": null,
      "order": null,
      "overflow": null,
      "overflow_x": null,
      "overflow_y": null,
      "padding": null,
      "right": null,
      "top": null,
      "visibility": null,
      "width": null
     }
    },
    "d5420bd8edc240f8a68a309221427f4b": {
     "model_module": "@jupyter-widgets/controls",
     "model_name": "HBoxModel",
     "state": {
      "_dom_classes": [],
      "_model_module": "@jupyter-widgets/controls",
      "_model_module_version": "1.5.0",
      "_model_name": "HBoxModel",
      "_view_count": null,
      "_view_module": "@jupyter-widgets/controls",
      "_view_module_version": "1.5.0",
      "_view_name": "HBoxView",
      "box_style": "",
      "children": [
       "IPY_MODEL_983fa2bace72450bb6233cf44e99d5e5",
       "IPY_MODEL_0a8f46fcca40434e89510e1813e27036"
      ],
      "layout": "IPY_MODEL_d6bdc2e71c024b7c96de13c42271d4b7"
     }
    },
    "d6bdc2e71c024b7c96de13c42271d4b7": {
     "model_module": "@jupyter-widgets/base",
     "model_name": "LayoutModel",
     "state": {
      "_model_module": "@jupyter-widgets/base",
      "_model_module_version": "1.2.0",
      "_model_name": "LayoutModel",
      "_view_count": null,
      "_view_module": "@jupyter-widgets/base",
      "_view_module_version": "1.2.0",
      "_view_name": "LayoutView",
      "align_content": null,
      "align_items": null,
      "align_self": null,
      "border": null,
      "bottom": null,
      "display": null,
      "flex": null,
      "flex_flow": null,
      "grid_area": null,
      "grid_auto_columns": null,
      "grid_auto_flow": null,
      "grid_auto_rows": null,
      "grid_column": null,
      "grid_gap": null,
      "grid_row": null,
      "grid_template_areas": null,
      "grid_template_columns": null,
      "grid_template_rows": null,
      "height": null,
      "justify_content": null,
      "justify_items": null,
      "left": null,
      "margin": null,
      "max_height": null,
      "max_width": null,
      "min_height": null,
      "min_width": null,
      "object_fit": null,
      "object_position": null,
      "order": null,
      "overflow": null,
      "overflow_x": null,
      "overflow_y": null,
      "padding": null,
      "right": null,
      "top": null,
      "visibility": null,
      "width": null
     }
    },
    "e00e527b2ddf42e9a2c3b7a7e9f2177c": {
     "model_module": "@jupyter-widgets/controls",
     "model_name": "FloatProgressModel",
     "state": {
      "_dom_classes": [],
      "_model_module": "@jupyter-widgets/controls",
      "_model_module_version": "1.5.0",
      "_model_name": "FloatProgressModel",
      "_view_count": null,
      "_view_module": "@jupyter-widgets/controls",
      "_view_module_version": "1.5.0",
      "_view_name": "ProgressView",
      "bar_style": "success",
      "description": "100%",
      "description_tooltip": null,
      "layout": "IPY_MODEL_957177d02044408b9d152aca62275353",
      "max": 1528,
      "min": 0,
      "orientation": "horizontal",
      "style": "IPY_MODEL_05a5766edc63499197700c1966dded76",
      "value": 1528
     }
    },
    "e1d03f93124942848614ff6caff273cd": {
     "model_module": "@jupyter-widgets/controls",
     "model_name": "DescriptionStyleModel",
     "state": {
      "_model_module": "@jupyter-widgets/controls",
      "_model_module_version": "1.5.0",
      "_model_name": "DescriptionStyleModel",
      "_view_count": null,
      "_view_module": "@jupyter-widgets/base",
      "_view_module_version": "1.2.0",
      "_view_name": "StyleView",
      "description_width": ""
     }
    },
    "e4e34cf55c9b40d38afc2d08e7c461de": {
     "model_module": "@jupyter-widgets/controls",
     "model_name": "HTMLModel",
     "state": {
      "_dom_classes": [],
      "_model_module": "@jupyter-widgets/controls",
      "_model_module_version": "1.5.0",
      "_model_name": "HTMLModel",
      "_view_count": null,
      "_view_module": "@jupyter-widgets/controls",
      "_view_module_version": "1.5.0",
      "_view_name": "HTMLView",
      "description": "",
      "description_tooltip": null,
      "layout": "IPY_MODEL_f9b07e2b976f42208e1d204a430c356d",
      "placeholder": "​",
      "style": "IPY_MODEL_c5bd1aa4069445f6b3b88ea5f5e7e1a3",
      "value": " 6069/6069 [00:00&lt;00:00, 37628.78it/s]"
     }
    },
    "e89c816b147849618fe66c85d2db321f": {
     "model_module": "@jupyter-widgets/controls",
     "model_name": "ProgressStyleModel",
     "state": {
      "_model_module": "@jupyter-widgets/controls",
      "_model_module_version": "1.5.0",
      "_model_name": "ProgressStyleModel",
      "_view_count": null,
      "_view_module": "@jupyter-widgets/base",
      "_view_module_version": "1.2.0",
      "_view_name": "StyleView",
      "bar_color": null,
      "description_width": "initial"
     }
    },
    "ec7cfb3afd2a4e5393cc419b8fb872ba": {
     "model_module": "@jupyter-widgets/controls",
     "model_name": "DescriptionStyleModel",
     "state": {
      "_model_module": "@jupyter-widgets/controls",
      "_model_module_version": "1.5.0",
      "_model_name": "DescriptionStyleModel",
      "_view_count": null,
      "_view_module": "@jupyter-widgets/base",
      "_view_module_version": "1.2.0",
      "_view_name": "StyleView",
      "description_width": ""
     }
    },
    "ef10ad9d8e344ec9b33811ef873f2bcd": {
     "model_module": "@jupyter-widgets/base",
     "model_name": "LayoutModel",
     "state": {
      "_model_module": "@jupyter-widgets/base",
      "_model_module_version": "1.2.0",
      "_model_name": "LayoutModel",
      "_view_count": null,
      "_view_module": "@jupyter-widgets/base",
      "_view_module_version": "1.2.0",
      "_view_name": "LayoutView",
      "align_content": null,
      "align_items": null,
      "align_self": null,
      "border": null,
      "bottom": null,
      "display": null,
      "flex": null,
      "flex_flow": null,
      "grid_area": null,
      "grid_auto_columns": null,
      "grid_auto_flow": null,
      "grid_auto_rows": null,
      "grid_column": null,
      "grid_gap": null,
      "grid_row": null,
      "grid_template_areas": null,
      "grid_template_columns": null,
      "grid_template_rows": null,
      "height": null,
      "justify_content": null,
      "justify_items": null,
      "left": null,
      "margin": null,
      "max_height": null,
      "max_width": null,
      "min_height": null,
      "min_width": null,
      "object_fit": null,
      "object_position": null,
      "order": null,
      "overflow": null,
      "overflow_x": null,
      "overflow_y": null,
      "padding": null,
      "right": null,
      "top": null,
      "visibility": null,
      "width": null
     }
    },
    "f5d071467b334101b69d329b40ed337f": {
     "model_module": "@jupyter-widgets/base",
     "model_name": "LayoutModel",
     "state": {
      "_model_module": "@jupyter-widgets/base",
      "_model_module_version": "1.2.0",
      "_model_name": "LayoutModel",
      "_view_count": null,
      "_view_module": "@jupyter-widgets/base",
      "_view_module_version": "1.2.0",
      "_view_name": "LayoutView",
      "align_content": null,
      "align_items": null,
      "align_self": null,
      "border": null,
      "bottom": null,
      "display": null,
      "flex": null,
      "flex_flow": null,
      "grid_area": null,
      "grid_auto_columns": null,
      "grid_auto_flow": null,
      "grid_auto_rows": null,
      "grid_column": null,
      "grid_gap": null,
      "grid_row": null,
      "grid_template_areas": null,
      "grid_template_columns": null,
      "grid_template_rows": null,
      "height": null,
      "justify_content": null,
      "justify_items": null,
      "left": null,
      "margin": null,
      "max_height": null,
      "max_width": null,
      "min_height": null,
      "min_width": null,
      "object_fit": null,
      "object_position": null,
      "order": null,
      "overflow": null,
      "overflow_x": null,
      "overflow_y": null,
      "padding": null,
      "right": null,
      "top": null,
      "visibility": null,
      "width": null
     }
    },
    "f6d8186a4ee34c4bbe79f62b2b38a352": {
     "model_module": "@jupyter-widgets/controls",
     "model_name": "HBoxModel",
     "state": {
      "_dom_classes": [],
      "_model_module": "@jupyter-widgets/controls",
      "_model_module_version": "1.5.0",
      "_model_name": "HBoxModel",
      "_view_count": null,
      "_view_module": "@jupyter-widgets/controls",
      "_view_module_version": "1.5.0",
      "_view_name": "HBoxView",
      "box_style": "",
      "children": [
       "IPY_MODEL_89cce5fa129b457bbc52e3a5d96704bc",
       "IPY_MODEL_e4e34cf55c9b40d38afc2d08e7c461de"
      ],
      "layout": "IPY_MODEL_4365092ba634490e91989a5e1d9979e1"
     }
    },
    "f9b07e2b976f42208e1d204a430c356d": {
     "model_module": "@jupyter-widgets/base",
     "model_name": "LayoutModel",
     "state": {
      "_model_module": "@jupyter-widgets/base",
      "_model_module_version": "1.2.0",
      "_model_name": "LayoutModel",
      "_view_count": null,
      "_view_module": "@jupyter-widgets/base",
      "_view_module_version": "1.2.0",
      "_view_name": "LayoutView",
      "align_content": null,
      "align_items": null,
      "align_self": null,
      "border": null,
      "bottom": null,
      "display": null,
      "flex": null,
      "flex_flow": null,
      "grid_area": null,
      "grid_auto_columns": null,
      "grid_auto_flow": null,
      "grid_auto_rows": null,
      "grid_column": null,
      "grid_gap": null,
      "grid_row": null,
      "grid_template_areas": null,
      "grid_template_columns": null,
      "grid_template_rows": null,
      "height": null,
      "justify_content": null,
      "justify_items": null,
      "left": null,
      "margin": null,
      "max_height": null,
      "max_width": null,
      "min_height": null,
      "min_width": null,
      "object_fit": null,
      "object_position": null,
      "order": null,
      "overflow": null,
      "overflow_x": null,
      "overflow_y": null,
      "padding": null,
      "right": null,
      "top": null,
      "visibility": null,
      "width": null
     }
    }
   }
  }
 },
 "nbformat": 4,
 "nbformat_minor": 1
}
