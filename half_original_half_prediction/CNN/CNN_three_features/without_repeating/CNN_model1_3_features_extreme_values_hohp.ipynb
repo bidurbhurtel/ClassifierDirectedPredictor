{
  "nbformat": 4,
  "nbformat_minor": 0,
  "metadata": {
    "kernelspec": {
      "display_name": "Python 3",
      "language": "python",
      "name": "python3"
    },
    "language_info": {
      "codemirror_mode": {
        "name": "ipython",
        "version": 3
      },
      "file_extension": ".py",
      "mimetype": "text/x-python",
      "name": "python",
      "nbconvert_exporter": "python",
      "pygments_lexer": "ipython3",
      "version": "3.7.6"
    },
    "colab": {
      "name": "CNN_model1_3_features-extreme_values_hohp.ipynb",
      "provenance": []
    }
  },
  "cells": [
    {
      "cell_type": "code",
      "metadata": {
        "id": "U_uU-0dUCdV6"
      },
      "source": [
        "#import modules\n",
        "import numpy as np\n",
        "import pandas as pd\n",
        "import time\n",
        "from keras import backend as K \n",
        "from keras.engine.training import Model\n",
        "from keras.utils import to_categorical, plot_model\n",
        "from keras.models import Sequential, load_model\n",
        "from sklearn.preprocessing import MinMaxScaler\n",
        "from keras.layers.convolutional import Conv1D, Conv2D\n",
        "from keras.layers.convolutional import MaxPooling2D\n",
        "from keras.layers import Dropout, Activation, Flatten\n",
        "from keras.layers import LSTM, Dense, Input\n",
        "from keras.optimizers import SGD\n",
        "import matplotlib.pyplot as plt\n",
        "from sklearn.metrics import confusion_matrix\n",
        "from sklearn.model_selection import train_test_split\n",
        "from tqdm import tqdm_notebook\n",
        "from sklearn.metrics import mean_squared_error"
      ],
      "execution_count": 2,
      "outputs": []
    },
    {
      "cell_type": "code",
      "metadata": {
        "id": "53rzynz8CdV8"
      },
      "source": [
        "model = load_model('cnn_model1_three_features_hohp.hdf5')"
      ],
      "execution_count": 3,
      "outputs": []
    },
    {
      "cell_type": "code",
      "metadata": {
        "colab": {
          "base_uri": "https://localhost:8080/",
          "height": 204
        },
        "id": "q1S_Rzg_CdV9",
        "outputId": "ede63576-c310-4eff-bcd9-362b24851c43"
      },
      "source": [
        "df = pd.read_csv('./Sub0-RAW.csv')\n",
        "df.head()"
      ],
      "execution_count": 4,
      "outputs": [
        {
          "output_type": "execute_result",
          "data": {
            "text/html": [
              "<div>\n",
              "<style scoped>\n",
              "    .dataframe tbody tr th:only-of-type {\n",
              "        vertical-align: middle;\n",
              "    }\n",
              "\n",
              "    .dataframe tbody tr th {\n",
              "        vertical-align: top;\n",
              "    }\n",
              "\n",
              "    .dataframe thead th {\n",
              "        text-align: right;\n",
              "    }\n",
              "</style>\n",
              "<table border=\"1\" class=\"dataframe\">\n",
              "  <thead>\n",
              "    <tr style=\"text-align: right;\">\n",
              "      <th></th>\n",
              "      <th>Dates</th>\n",
              "      <th>Year</th>\n",
              "      <th>Month</th>\n",
              "      <th>Day</th>\n",
              "      <th>Hours</th>\n",
              "      <th>Precipitation</th>\n",
              "      <th>Temperature</th>\n",
              "      <th>Outflow</th>\n",
              "    </tr>\n",
              "  </thead>\n",
              "  <tbody>\n",
              "    <tr>\n",
              "      <th>0</th>\n",
              "      <td>10/1/1980</td>\n",
              "      <td>1980</td>\n",
              "      <td>10</td>\n",
              "      <td>1</td>\n",
              "      <td>0:00:00</td>\n",
              "      <td>0.0</td>\n",
              "      <td>102.992</td>\n",
              "      <td>5.0</td>\n",
              "    </tr>\n",
              "    <tr>\n",
              "      <th>1</th>\n",
              "      <td>10/1/1980</td>\n",
              "      <td>1980</td>\n",
              "      <td>10</td>\n",
              "      <td>1</td>\n",
              "      <td>1:00:00</td>\n",
              "      <td>0.0</td>\n",
              "      <td>97.790</td>\n",
              "      <td>5.0</td>\n",
              "    </tr>\n",
              "    <tr>\n",
              "      <th>2</th>\n",
              "      <td>10/1/1980</td>\n",
              "      <td>1980</td>\n",
              "      <td>10</td>\n",
              "      <td>1</td>\n",
              "      <td>2:00:00</td>\n",
              "      <td>0.0</td>\n",
              "      <td>92.588</td>\n",
              "      <td>5.0</td>\n",
              "    </tr>\n",
              "    <tr>\n",
              "      <th>3</th>\n",
              "      <td>10/1/1980</td>\n",
              "      <td>1980</td>\n",
              "      <td>10</td>\n",
              "      <td>1</td>\n",
              "      <td>3:00:00</td>\n",
              "      <td>0.0</td>\n",
              "      <td>87.404</td>\n",
              "      <td>5.0</td>\n",
              "    </tr>\n",
              "    <tr>\n",
              "      <th>4</th>\n",
              "      <td>10/1/1980</td>\n",
              "      <td>1980</td>\n",
              "      <td>10</td>\n",
              "      <td>1</td>\n",
              "      <td>4:00:00</td>\n",
              "      <td>0.0</td>\n",
              "      <td>85.172</td>\n",
              "      <td>5.0</td>\n",
              "    </tr>\n",
              "  </tbody>\n",
              "</table>\n",
              "</div>"
            ],
            "text/plain": [
              "       Dates  Year  Month  Day    Hours  Precipitation  Temperature  Outflow\n",
              "0  10/1/1980  1980     10    1  0:00:00            0.0      102.992      5.0\n",
              "1  10/1/1980  1980     10    1  1:00:00            0.0       97.790      5.0\n",
              "2  10/1/1980  1980     10    1  2:00:00            0.0       92.588      5.0\n",
              "3  10/1/1980  1980     10    1  3:00:00            0.0       87.404      5.0\n",
              "4  10/1/1980  1980     10    1  4:00:00            0.0       85.172      5.0"
            ]
          },
          "metadata": {
            "tags": []
          },
          "execution_count": 4
        }
      ]
    },
    {
      "cell_type": "code",
      "metadata": {
        "id": "8xN2AGVTCdV9"
      },
      "source": [
        "train_cols = [\"Precipitation\",\"Temperature\",\"Outflow\"]\n",
        "label_cols = [\"Outflow(t+1)\"]"
      ],
      "execution_count": 5,
      "outputs": []
    },
    {
      "cell_type": "code",
      "metadata": {
        "id": "RzsXJbBwCdV-"
      },
      "source": [
        "new_df = df.filter([\"Precipitation\",\"Temperature\", \"Outflow\"], axis=1)"
      ],
      "execution_count": 6,
      "outputs": []
    },
    {
      "cell_type": "code",
      "metadata": {
        "id": "w_gxX6xnCdV-"
      },
      "source": [
        "#function to shift the time_series data for getting labels\n",
        "def lag_seq(df, n_seq):\n",
        "    for i in range(n_seq):\n",
        "        df['Outflow(t+%d)' %(i+1)] = new_df['Outflow'].shift(-(i+1))\n",
        "    return df"
      ],
      "execution_count": 7,
      "outputs": []
    },
    {
      "cell_type": "code",
      "metadata": {
        "id": "9oEL_w2TCdV_"
      },
      "source": [
        "#calling function to create lag dataframe\n",
        "lag_df = lag_seq(new_df, 1)\n",
        "lag_df.dropna(inplace=True)"
      ],
      "execution_count": 8,
      "outputs": []
    },
    {
      "cell_type": "code",
      "metadata": {
        "id": "jP7xLfaMCdV_"
      },
      "source": [
        "#Min Max scalr normalizing\n",
        "xtrain_min_max_scaler = MinMaxScaler(feature_range = (0, 1))\n",
        "ytrain_min_max_scaler = MinMaxScaler(feature_range = (0, 1))\n",
        "xtest_min_max_scaler = MinMaxScaler(feature_range = (0, 1))\n",
        "ytest_min_max_scaler = MinMaxScaler(feature_range = (0, 1))"
      ],
      "execution_count": 9,
      "outputs": []
    },
    {
      "cell_type": "code",
      "metadata": {
        "id": "368-qc4dCdV_"
      },
      "source": [
        "#Splitting training and test data\n",
        "df_train, df_test = train_test_split(lag_df, train_size=0.8, test_size=0.2, shuffle=False)\n",
        "x_train = df_train.loc[:,train_cols].values\n",
        "y_train = df_train.loc[:,label_cols].values\n",
        "x_test = df_test.loc[:,train_cols].values\n",
        "y_test = df_test.loc[:,label_cols].values    \n",
        "   "
      ],
      "execution_count": 10,
      "outputs": []
    },
    {
      "cell_type": "code",
      "metadata": {
        "id": "z0ebKE3xCdWA"
      },
      "source": [
        "# checking mse for test set that are greater than threshold\n",
        "threshold = 250\n",
        "timesteps = 18\n",
        "test_values_above_thres = []\n",
        "test_labels_above_theres = []\n",
        "\n",
        "for i in range(timesteps, x_test.shape[0]):\n",
        "    if (y_test[i] > threshold):\n",
        "        test_values_above_thres.append(x_test[i-timesteps:i])\n",
        "        test_labels_above_theres.append(y_test[i]) \n",
        "        \n",
        "X_test_abv_thres = np.array(test_values_above_thres)\n",
        "Y_test_abv_thres = np.array(test_labels_above_theres)\n",
        "\n",
        "tsamples, ta, tb = X_test_abv_thres.shape\n",
        "x_test_for_normalization = X_test_abv_thres.reshape((tsamples,ta*tb)) # since normalization requires 2d array\n",
        "x_test_for_normalization.shape\n",
        "\n",
        "X_Test_abv_thres = xtest_min_max_scaler.fit_transform(x_test_for_normalization)\n",
        "Y_Test_abv_thres = ytest_min_max_scaler.fit_transform(Y_test_abv_thres)\n",
        "\n",
        "X_Test_abv_thres = X_Test_abv_thres.reshape((tsamples, ta, tb))"
      ],
      "execution_count": 11,
      "outputs": []
    },
    {
      "cell_type": "code",
      "metadata": {
        "colab": {
          "base_uri": "https://localhost:8080/"
        },
        "id": "KPzO4GXWCdWA",
        "outputId": "39edf574-5a83-428a-b08f-4f07093f71b7"
      },
      "source": [
        "predicted_y_test_abv_thres = model.predict(X_Test_abv_thres)\n",
        "predicted_y_test_abv_thres_unnor = ytest_min_max_scaler.inverse_transform(predicted_y_test_abv_thres)\n",
        "mean_square_root_abv_thres = mean_squared_error(predicted_y_test_abv_thres, Y_test_abv_thres)\n",
        "mean_square_root_abv_thres"
      ],
      "execution_count": 12,
      "outputs": [
        {
          "output_type": "execute_result",
          "data": {
            "text/plain": [
              "299526.3824705413"
            ]
          },
          "metadata": {
            "tags": []
          },
          "execution_count": 12
        }
      ]
    },
    {
      "cell_type": "code",
      "metadata": {
        "id": "Kji0EMXXCdWB"
      },
      "source": [
        ""
      ],
      "execution_count": 12,
      "outputs": []
    }
  ]
}